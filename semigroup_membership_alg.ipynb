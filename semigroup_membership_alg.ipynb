{
 "cells": [
  {
   "cell_type": "markdown",
   "id": "867e0b5e",
   "metadata": {},
   "source": [
    "# Import modules"
   ]
  },
  {
   "cell_type": "code",
   "execution_count": 2,
   "id": "c7cd502b",
   "metadata": {},
   "outputs": [
    {
     "name": "stdout",
     "output_type": "stream",
     "text": [
      "Defaulting to user installation because normal site-packages is not writeable\n",
      "Requirement already satisfied: pdflatex in /home/pablo/.local/lib/python3.10/site-packages (0.1.3)\n",
      "Requirement already satisfied: qiskit in /home/pablo/.local/lib/python3.10/site-packages (0.38.0)\n",
      "Requirement already satisfied: ipywidgets in /home/pablo/.local/lib/python3.10/site-packages (8.0.2)\n",
      "Requirement already satisfied: quantum-decomp in /home/pablo/.local/lib/python3.10/site-packages (1.1.1)\n",
      "Requirement already satisfied: pylatexenc in /home/pablo/.local/lib/python3.10/site-packages (2.10)\n",
      "Requirement already satisfied: import-ipynb in /home/pablo/.local/lib/python3.10/site-packages (0.1.4)\n",
      "Requirement already satisfied: attrs<19.0,>=18.2 in /home/pablo/.local/lib/python3.10/site-packages (from pdflatex) (18.2.0)\n",
      "Requirement already satisfied: qiskit-terra==0.21.2 in /home/pablo/.local/lib/python3.10/site-packages (from qiskit) (0.21.2)\n",
      "Requirement already satisfied: qiskit-ibmq-provider==0.19.2 in /home/pablo/.local/lib/python3.10/site-packages (from qiskit) (0.19.2)\n",
      "Requirement already satisfied: qiskit-aer==0.11.0 in /home/pablo/.local/lib/python3.10/site-packages (from qiskit) (0.11.0)\n",
      "Requirement already satisfied: numpy>=1.16.3 in /home/pablo/.local/lib/python3.10/site-packages (from qiskit-aer==0.11.0->qiskit) (1.23.2)\n",
      "Requirement already satisfied: scipy>=1.0 in /home/pablo/.local/lib/python3.10/site-packages (from qiskit-aer==0.11.0->qiskit) (1.9.1)\n",
      "Requirement already satisfied: python-dateutil>=2.8.0 in /home/pablo/.local/lib/python3.10/site-packages (from qiskit-ibmq-provider==0.19.2->qiskit) (2.8.2)\n",
      "Requirement already satisfied: websocket-client>=1.0.1 in /home/pablo/.local/lib/python3.10/site-packages (from qiskit-ibmq-provider==0.19.2->qiskit) (1.4.0)\n",
      "Requirement already satisfied: requests-ntlm>=1.1.0 in /home/pablo/.local/lib/python3.10/site-packages (from qiskit-ibmq-provider==0.19.2->qiskit) (1.1.0)\n",
      "Requirement already satisfied: urllib3>=1.21.1 in /usr/lib/python3/dist-packages (from qiskit-ibmq-provider==0.19.2->qiskit) (1.26.5)\n",
      "Requirement already satisfied: websockets>=10.0 in /home/pablo/.local/lib/python3.10/site-packages (from qiskit-ibmq-provider==0.19.2->qiskit) (10.3)\n",
      "Requirement already satisfied: requests>=2.19 in /usr/lib/python3/dist-packages (from qiskit-ibmq-provider==0.19.2->qiskit) (2.25.1)\n",
      "Requirement already satisfied: psutil>=5 in /home/pablo/.local/lib/python3.10/site-packages (from qiskit-terra==0.21.2->qiskit) (5.9.1)\n",
      "Requirement already satisfied: tweedledum<2.0,>=1.1 in /home/pablo/.local/lib/python3.10/site-packages (from qiskit-terra==0.21.2->qiskit) (1.1.1)\n",
      "Requirement already satisfied: retworkx>=0.11.0 in /home/pablo/.local/lib/python3.10/site-packages (from qiskit-terra==0.21.2->qiskit) (0.11.0)\n",
      "Requirement already satisfied: ply>=3.10 in /home/pablo/.local/lib/python3.10/site-packages (from qiskit-terra==0.21.2->qiskit) (3.11)\n",
      "Requirement already satisfied: sympy>=1.3 in /home/pablo/.local/lib/python3.10/site-packages (from qiskit-terra==0.21.2->qiskit) (1.11.1)\n",
      "Requirement already satisfied: dill>=0.3 in /home/pablo/.local/lib/python3.10/site-packages (from qiskit-terra==0.21.2->qiskit) (0.3.5.1)\n",
      "Requirement already satisfied: stevedore>=3.0.0 in /home/pablo/.local/lib/python3.10/site-packages (from qiskit-terra==0.21.2->qiskit) (4.0.0)\n",
      "Requirement already satisfied: symengine>=0.9 in /home/pablo/.local/lib/python3.10/site-packages (from qiskit-terra==0.21.2->qiskit) (0.9.2)\n",
      "Requirement already satisfied: ipython>=6.1.0 in /home/pablo/.local/lib/python3.10/site-packages (from ipywidgets) (8.4.0)\n",
      "Requirement already satisfied: jupyterlab-widgets~=3.0 in /home/pablo/.local/lib/python3.10/site-packages (from ipywidgets) (3.0.3)\n",
      "Requirement already satisfied: widgetsnbextension~=4.0 in /home/pablo/.local/lib/python3.10/site-packages (from ipywidgets) (4.0.3)\n",
      "Requirement already satisfied: traitlets>=4.3.1 in /home/pablo/.local/lib/python3.10/site-packages (from ipywidgets) (5.3.0)\n",
      "Requirement already satisfied: ipykernel>=4.5.1 in /home/pablo/.local/lib/python3.10/site-packages (from ipywidgets) (6.15.2)\n",
      "Requirement already satisfied: nbformat in /home/pablo/.local/lib/python3.10/site-packages (from import-ipynb) (5.4.0)\n",
      "Requirement already satisfied: packaging in /home/pablo/.local/lib/python3.10/site-packages (from ipykernel>=4.5.1->ipywidgets) (21.3)\n",
      "Requirement already satisfied: debugpy>=1.0 in /home/pablo/.local/lib/python3.10/site-packages (from ipykernel>=4.5.1->ipywidgets) (1.6.3)\n",
      "Requirement already satisfied: pyzmq>=17 in /home/pablo/.local/lib/python3.10/site-packages (from ipykernel>=4.5.1->ipywidgets) (23.2.1)\n",
      "Requirement already satisfied: tornado>=6.1 in /home/pablo/.local/lib/python3.10/site-packages (from ipykernel>=4.5.1->ipywidgets) (6.2)\n",
      "Requirement already satisfied: jupyter-client>=6.1.12 in /home/pablo/.local/lib/python3.10/site-packages (from ipykernel>=4.5.1->ipywidgets) (7.3.5)\n",
      "Requirement already satisfied: nest-asyncio in /home/pablo/.local/lib/python3.10/site-packages (from ipykernel>=4.5.1->ipywidgets) (1.5.5)\n",
      "Requirement already satisfied: matplotlib-inline>=0.1 in /home/pablo/.local/lib/python3.10/site-packages (from ipykernel>=4.5.1->ipywidgets) (0.1.6)\n",
      "Requirement already satisfied: stack-data in /home/pablo/.local/lib/python3.10/site-packages (from ipython>=6.1.0->ipywidgets) (0.5.0)\n",
      "Requirement already satisfied: jedi>=0.16 in /home/pablo/.local/lib/python3.10/site-packages (from ipython>=6.1.0->ipywidgets) (0.17.2)\n",
      "Requirement already satisfied: pickleshare in /home/pablo/.local/lib/python3.10/site-packages (from ipython>=6.1.0->ipywidgets) (0.7.5)\n",
      "Requirement already satisfied: backcall in /home/pablo/.local/lib/python3.10/site-packages (from ipython>=6.1.0->ipywidgets) (0.2.0)\n",
      "Requirement already satisfied: decorator in /home/pablo/.local/lib/python3.10/site-packages (from ipython>=6.1.0->ipywidgets) (5.1.1)\n",
      "Requirement already satisfied: prompt-toolkit!=3.0.0,!=3.0.1,<3.1.0,>=2.0.0 in /home/pablo/.local/lib/python3.10/site-packages (from ipython>=6.1.0->ipywidgets) (3.0.31)\n",
      "Requirement already satisfied: pexpect>4.3 in /usr/lib/python3/dist-packages (from ipython>=6.1.0->ipywidgets) (4.8.0)\n",
      "Requirement already satisfied: setuptools>=18.5 in /usr/lib/python3/dist-packages (from ipython>=6.1.0->ipywidgets) (59.6.0)\n",
      "Requirement already satisfied: pygments>=2.4.0 in /home/pablo/.local/lib/python3.10/site-packages (from ipython>=6.1.0->ipywidgets) (2.13.0)\n",
      "Requirement already satisfied: jupyter-core in /home/pablo/.local/lib/python3.10/site-packages (from nbformat->import-ipynb) (4.11.1)\n",
      "Requirement already satisfied: fastjsonschema in /home/pablo/.local/lib/python3.10/site-packages (from nbformat->import-ipynb) (2.16.1)\n",
      "Requirement already satisfied: jsonschema>=2.6 in /home/pablo/.local/lib/python3.10/site-packages (from nbformat->import-ipynb) (4.15.0)\n",
      "Requirement already satisfied: parso<0.8.0,>=0.7.0 in /home/pablo/.local/lib/python3.10/site-packages (from jedi>=0.16->ipython>=6.1.0->ipywidgets) (0.7.1)\n",
      "Requirement already satisfied: pyrsistent!=0.17.0,!=0.17.1,!=0.17.2,>=0.14.0 in /home/pablo/.local/lib/python3.10/site-packages (from jsonschema>=2.6->nbformat->import-ipynb) (0.18.1)\n",
      "Requirement already satisfied: entrypoints in /home/pablo/.local/lib/python3.10/site-packages (from jupyter-client>=6.1.12->ipykernel>=4.5.1->ipywidgets) (0.4)\n",
      "Requirement already satisfied: wcwidth in /home/pablo/.local/lib/python3.10/site-packages (from prompt-toolkit!=3.0.0,!=3.0.1,<3.1.0,>=2.0.0->ipython>=6.1.0->ipywidgets) (0.2.5)\n",
      "Requirement already satisfied: six>=1.5 in /usr/lib/python3/dist-packages (from python-dateutil>=2.8.0->qiskit-ibmq-provider==0.19.2->qiskit) (1.16.0)\n",
      "Requirement already satisfied: cryptography>=1.3 in /usr/lib/python3/dist-packages (from requests-ntlm>=1.1.0->qiskit-ibmq-provider==0.19.2->qiskit) (3.4.8)\n",
      "Requirement already satisfied: ntlm-auth>=1.0.2 in /home/pablo/.local/lib/python3.10/site-packages (from requests-ntlm>=1.1.0->qiskit-ibmq-provider==0.19.2->qiskit) (1.5.0)\n",
      "Requirement already satisfied: pbr!=2.1.0,>=2.0.0 in /home/pablo/.local/lib/python3.10/site-packages (from stevedore>=3.0.0->qiskit-terra==0.21.2->qiskit) (5.10.0)\n",
      "Requirement already satisfied: mpmath>=0.19 in /home/pablo/.local/lib/python3.10/site-packages (from sympy>=1.3->qiskit-terra==0.21.2->qiskit) (1.2.1)\n",
      "Requirement already satisfied: pyparsing!=3.0.5,>=2.0.2 in /usr/lib/python3/dist-packages (from packaging->ipykernel>=4.5.1->ipywidgets) (2.4.7)\n"
     ]
    },
    {
     "name": "stdout",
     "output_type": "stream",
     "text": [
      "Requirement already satisfied: executing in /home/pablo/.local/lib/python3.10/site-packages (from stack-data->ipython>=6.1.0->ipywidgets) (1.0.0)\n",
      "Requirement already satisfied: asttokens in /home/pablo/.local/lib/python3.10/site-packages (from stack-data->ipython>=6.1.0->ipywidgets) (2.0.8)\n",
      "Requirement already satisfied: pure-eval in /home/pablo/.local/lib/python3.10/site-packages (from stack-data->ipython>=6.1.0->ipywidgets) (0.2.2)\n",
      "--2022-09-23 10:22:40--  https://raw.githubusercontent.com/hkhetawat/QArithmetic/master/QArithmetic.py\n",
      "Resolving raw.githubusercontent.com (raw.githubusercontent.com)... 185.199.108.133, 185.199.111.133, 185.199.109.133, ...\n",
      "Connecting to raw.githubusercontent.com (raw.githubusercontent.com)|185.199.108.133|:443... connected.\n",
      "HTTP request sent, awaiting response... 200 OK\n",
      "Length: 13886 (14K) [text/plain]\n",
      "Saving to: ‘QArithmetic.py.2’\n",
      "\n",
      "QArithmetic.py.2    100%[===================>]  13,56K  --.-KB/s    in 0s      \n",
      "\n",
      "2022-09-23 10:22:41 (36,4 MB/s) - ‘QArithmetic.py.2’ saved [13886/13886]\n",
      "\n",
      "--2022-09-23 10:22:41--  https://raw.githubusercontent.com/hkhetawat/QArithmetic/master/qft.py\n",
      "Resolving raw.githubusercontent.com (raw.githubusercontent.com)... 185.199.109.133, 185.199.108.133, 185.199.110.133, ...\n",
      "Connecting to raw.githubusercontent.com (raw.githubusercontent.com)|185.199.109.133|:443... connected.\n",
      "HTTP request sent, awaiting response... 200 OK\n",
      "Length: 1820 (1,8K) [text/plain]\n",
      "Saving to: ‘qft.py.3’\n",
      "\n",
      "qft.py.3            100%[===================>]   1,78K  --.-KB/s    in 0s      \n",
      "\n",
      "2022-09-23 10:22:41 (16,6 MB/s) - ‘qft.py.3’ saved [1820/1820]\n",
      "\n"
     ]
    }
   ],
   "source": [
    "!pip3 install pdflatex qiskit ipywidgets quantum-decomp pylatexenc import-ipynb\n",
    "!wget https://raw.githubusercontent.com/hkhetawat/QArithmetic/master/QArithmetic.py\n",
    "!wget https://raw.githubusercontent.com/hkhetawat/QArithmetic/master/qft.py"
   ]
  },
  {
   "cell_type": "code",
   "execution_count": 8,
   "id": "0d6cfc7d",
   "metadata": {},
   "outputs": [],
   "source": [
    "import import_ipynb, qiskit, functools, QArithmetic\n",
    "import numpy as np\n",
    "import matplotlib as plt\n",
    "from itertools import chain\n",
    "from qiskit import Aer, IBMQ, QuantumRegister, ClassicalRegister, QuantumCircuit, execute, assemble, transpile\n",
    "from qiskit.providers.ibmq import least_busy\n",
    "from qiskit.tools.monitor import job_monitor\n",
    "from qiskit.providers.aer import noise\n",
    "from qiskit.circuit import Gate\n",
    "from qiskit.visualization import plot_histogram"
   ]
  },
  {
   "cell_type": "code",
   "execution_count": 14,
   "id": "8a5eeb4e",
   "metadata": {},
   "outputs": [],
   "source": [
    "class semigroupMembershipOracle():\n",
    "    def __init__(self, soughtElement, *generators):\n",
    "        \n",
    "        self.soughtElement = soughtElement\n",
    "        self.generators = generators\n",
    "    \n",
    "    def substraction():\n",
    "        '''operador de diferencia'''\n",
    "        pass\n",
    "    def addition():\n",
    "        '''operador de suma'''\n",
    "        pass\n",
    "    def product():\n",
    "        '''operador de producto'''\n",
    "        pass\n",
    "    def linearCombination():\n",
    "        '''operador de combinación lineal'''\n",
    "        pass\n",
    "    "
   ]
  },
  {
   "cell_type": "code",
   "execution_count": 19,
   "id": "87bc104b",
   "metadata": {},
   "outputs": [
    {
     "data": {
      "text/plain": [
       "[3, 5]"
      ]
     },
     "execution_count": 19,
     "metadata": {},
     "output_type": "execute_result"
    }
   ],
   "source": [
    "test1 = semigroupMembershipOracle(7, 3, 5)\n",
    "test1.soughtElement\n",
    "list(test1.generators)"
   ]
  },
  {
   "cell_type": "code",
   "execution_count": 23,
   "id": "4d6935b2",
   "metadata": {},
   "outputs": [],
   "source": [
    "class groverAlgorithm():\n",
    "    \n",
    "    '''El oráculo como init o como herencia?'''\n",
    "    \n",
    "    def Difussor():\n",
    "        '''Crea un difusor en los hilos implicados'''\n",
    "        pass\n",
    "    def Circuit():\n",
    "        '''Ensambla el circuito con las iteraciones necesarias'''\n",
    "        pass\n",
    "    "
   ]
  },
  {
   "cell_type": "code",
   "execution_count": 24,
   "id": "1b45083e",
   "metadata": {},
   "outputs": [],
   "source": [
    "class semigroupMembership(groverAlgorithm):\n",
    "    \n",
    "    def dec2binQR(circ, qReg, number):\n",
    "        '''Toma un valor decimal y un registro, introduce el equiv. binairo en el registro.'''\n",
    "        \n",
    "        binExp = bin(number) #−> 0bxxxxx...\n",
    "            \n",
    "        if len(qReg)<len(binExp)-2:\n",
    "            print(\"error al convertir en binario\")\n",
    "            return\n",
    "        i=0\n",
    "        while binExp[-(i+1)]!='b':\n",
    "            if binExp[-(i+1)]=='1':\n",
    "              circ.x(qReg[i])\n",
    "            i += 1"
   ]
  },
  {
   "cell_type": "code",
   "execution_count": null,
   "id": "d89041f6",
   "metadata": {},
   "outputs": [],
   "source": []
  }
 ],
 "metadata": {
  "kernelspec": {
   "display_name": "Python 3 (ipykernel)",
   "language": "python",
   "name": "python3"
  },
  "language_info": {
   "codemirror_mode": {
    "name": "ipython",
    "version": 3
   },
   "file_extension": ".py",
   "mimetype": "text/x-python",
   "name": "python",
   "nbconvert_exporter": "python",
   "pygments_lexer": "ipython3",
   "version": "3.10.4"
  }
 },
 "nbformat": 4,
 "nbformat_minor": 5
}
