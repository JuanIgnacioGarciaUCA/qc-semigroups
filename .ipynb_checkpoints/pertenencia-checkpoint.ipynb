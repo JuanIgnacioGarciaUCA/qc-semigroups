{
 "cells": [
  {
   "cell_type": "markdown",
   "id": "92f4505c-19b7-4abd-8550-f80b10982a60",
   "metadata": {
    "id": "92f4505c-19b7-4abd-8550-f80b10982a60"
   },
   "source": [
    "# Llamadas a librerías"
   ]
  },
  {
   "cell_type": "code",
   "execution_count": 1,
   "id": "o0YdS5_OIx9U",
   "metadata": {
    "colab": {
     "base_uri": "https://localhost:8080/"
    },
    "id": "o0YdS5_OIx9U",
    "outputId": "01f0b0a6-84b3-4b72-f438-c2e2064d1a45"
   },
   "outputs": [
    {
     "name": "stdout",
     "output_type": "stream",
     "text": [
      "Defaulting to user installation because normal site-packages is not writeable\n",
      "Requirement already satisfied: pdflatex in /home/pablo/.local/lib/python3.10/site-packages (0.1.3)\n",
      "Requirement already satisfied: attrs<19.0,>=18.2 in /home/pablo/.local/lib/python3.10/site-packages (from pdflatex) (18.2.0)\n"
     ]
    }
   ],
   "source": [
    "!pip3 install pdflatex"
   ]
  },
  {
   "cell_type": "code",
   "execution_count": 2,
   "id": "5H6kUsuU2dr5",
   "metadata": {
    "colab": {
     "base_uri": "https://localhost:8080/"
    },
    "id": "5H6kUsuU2dr5",
    "outputId": "0fdfef65-4bbe-4077-ed38-a6b3dd57a1e7"
   },
   "outputs": [
    {
     "name": "stdout",
     "output_type": "stream",
     "text": [
      "Defaulting to user installation because normal site-packages is not writeable\n",
      "Requirement already satisfied: qiskit in /home/pablo/.local/lib/python3.10/site-packages (0.38.0)\n",
      "Requirement already satisfied: ipywidgets in /home/pablo/.local/lib/python3.10/site-packages (8.0.2)\n",
      "Requirement already satisfied: qiskit-terra==0.21.2 in /home/pablo/.local/lib/python3.10/site-packages (from qiskit) (0.21.2)\n",
      "Requirement already satisfied: qiskit-aer==0.11.0 in /home/pablo/.local/lib/python3.10/site-packages (from qiskit) (0.11.0)\n",
      "Requirement already satisfied: qiskit-ibmq-provider==0.19.2 in /home/pablo/.local/lib/python3.10/site-packages (from qiskit) (0.19.2)\n",
      "Requirement already satisfied: scipy>=1.0 in /home/pablo/.local/lib/python3.10/site-packages (from qiskit-aer==0.11.0->qiskit) (1.9.1)\n",
      "Requirement already satisfied: numpy>=1.16.3 in /home/pablo/.local/lib/python3.10/site-packages (from qiskit-aer==0.11.0->qiskit) (1.23.2)\n",
      "Requirement already satisfied: requests-ntlm>=1.1.0 in /home/pablo/.local/lib/python3.10/site-packages (from qiskit-ibmq-provider==0.19.2->qiskit) (1.1.0)\n",
      "Requirement already satisfied: requests>=2.19 in /usr/lib/python3/dist-packages (from qiskit-ibmq-provider==0.19.2->qiskit) (2.25.1)\n",
      "Requirement already satisfied: python-dateutil>=2.8.0 in /home/pablo/.local/lib/python3.10/site-packages (from qiskit-ibmq-provider==0.19.2->qiskit) (2.8.2)\n",
      "Requirement already satisfied: websocket-client>=1.0.1 in /home/pablo/.local/lib/python3.10/site-packages (from qiskit-ibmq-provider==0.19.2->qiskit) (1.4.0)\n",
      "Requirement already satisfied: websockets>=10.0 in /home/pablo/.local/lib/python3.10/site-packages (from qiskit-ibmq-provider==0.19.2->qiskit) (10.3)\n",
      "Requirement already satisfied: urllib3>=1.21.1 in /usr/lib/python3/dist-packages (from qiskit-ibmq-provider==0.19.2->qiskit) (1.26.5)\n",
      "Requirement already satisfied: symengine>=0.9 in /home/pablo/.local/lib/python3.10/site-packages (from qiskit-terra==0.21.2->qiskit) (0.9.2)\n",
      "Requirement already satisfied: sympy>=1.3 in /home/pablo/.local/lib/python3.10/site-packages (from qiskit-terra==0.21.2->qiskit) (1.11.1)\n",
      "Requirement already satisfied: dill>=0.3 in /home/pablo/.local/lib/python3.10/site-packages (from qiskit-terra==0.21.2->qiskit) (0.3.5.1)\n",
      "Requirement already satisfied: tweedledum<2.0,>=1.1 in /home/pablo/.local/lib/python3.10/site-packages (from qiskit-terra==0.21.2->qiskit) (1.1.1)\n",
      "Requirement already satisfied: retworkx>=0.11.0 in /home/pablo/.local/lib/python3.10/site-packages (from qiskit-terra==0.21.2->qiskit) (0.11.0)\n",
      "Requirement already satisfied: ply>=3.10 in /home/pablo/.local/lib/python3.10/site-packages (from qiskit-terra==0.21.2->qiskit) (3.11)\n",
      "Requirement already satisfied: psutil>=5 in /home/pablo/.local/lib/python3.10/site-packages (from qiskit-terra==0.21.2->qiskit) (5.9.1)\n",
      "Requirement already satisfied: stevedore>=3.0.0 in /home/pablo/.local/lib/python3.10/site-packages (from qiskit-terra==0.21.2->qiskit) (4.0.0)\n",
      "Requirement already satisfied: traitlets>=4.3.1 in /home/pablo/.local/lib/python3.10/site-packages (from ipywidgets) (5.3.0)\n",
      "Requirement already satisfied: jupyterlab-widgets~=3.0 in /home/pablo/.local/lib/python3.10/site-packages (from ipywidgets) (3.0.3)\n",
      "Requirement already satisfied: ipython>=6.1.0 in /home/pablo/.local/lib/python3.10/site-packages (from ipywidgets) (8.4.0)\n",
      "Requirement already satisfied: ipykernel>=4.5.1 in /home/pablo/.local/lib/python3.10/site-packages (from ipywidgets) (6.15.2)\n",
      "Requirement already satisfied: widgetsnbextension~=4.0 in /home/pablo/.local/lib/python3.10/site-packages (from ipywidgets) (4.0.3)\n",
      "Requirement already satisfied: packaging in /home/pablo/.local/lib/python3.10/site-packages (from ipykernel>=4.5.1->ipywidgets) (21.3)\n",
      "Requirement already satisfied: debugpy>=1.0 in /home/pablo/.local/lib/python3.10/site-packages (from ipykernel>=4.5.1->ipywidgets) (1.6.3)\n",
      "Requirement already satisfied: jupyter-client>=6.1.12 in /home/pablo/.local/lib/python3.10/site-packages (from ipykernel>=4.5.1->ipywidgets) (7.3.5)\n",
      "Requirement already satisfied: tornado>=6.1 in /home/pablo/.local/lib/python3.10/site-packages (from ipykernel>=4.5.1->ipywidgets) (6.2)\n",
      "Requirement already satisfied: pyzmq>=17 in /home/pablo/.local/lib/python3.10/site-packages (from ipykernel>=4.5.1->ipywidgets) (23.2.1)\n",
      "Requirement already satisfied: nest-asyncio in /home/pablo/.local/lib/python3.10/site-packages (from ipykernel>=4.5.1->ipywidgets) (1.5.5)\n",
      "Requirement already satisfied: matplotlib-inline>=0.1 in /home/pablo/.local/lib/python3.10/site-packages (from ipykernel>=4.5.1->ipywidgets) (0.1.6)\n",
      "Requirement already satisfied: jedi>=0.16 in /home/pablo/.local/lib/python3.10/site-packages (from ipython>=6.1.0->ipywidgets) (0.17.2)\n",
      "Requirement already satisfied: pexpect>4.3 in /usr/lib/python3/dist-packages (from ipython>=6.1.0->ipywidgets) (4.8.0)\n",
      "Requirement already satisfied: pygments>=2.4.0 in /home/pablo/.local/lib/python3.10/site-packages (from ipython>=6.1.0->ipywidgets) (2.13.0)\n",
      "Requirement already satisfied: setuptools>=18.5 in /usr/lib/python3/dist-packages (from ipython>=6.1.0->ipywidgets) (59.6.0)\n",
      "Requirement already satisfied: stack-data in /home/pablo/.local/lib/python3.10/site-packages (from ipython>=6.1.0->ipywidgets) (0.5.0)\n",
      "Requirement already satisfied: prompt-toolkit!=3.0.0,!=3.0.1,<3.1.0,>=2.0.0 in /home/pablo/.local/lib/python3.10/site-packages (from ipython>=6.1.0->ipywidgets) (3.0.31)\n",
      "Requirement already satisfied: decorator in /home/pablo/.local/lib/python3.10/site-packages (from ipython>=6.1.0->ipywidgets) (5.1.1)\n",
      "Requirement already satisfied: backcall in /home/pablo/.local/lib/python3.10/site-packages (from ipython>=6.1.0->ipywidgets) (0.2.0)\n",
      "Requirement already satisfied: pickleshare in /home/pablo/.local/lib/python3.10/site-packages (from ipython>=6.1.0->ipywidgets) (0.7.5)\n",
      "Requirement already satisfied: parso<0.8.0,>=0.7.0 in /home/pablo/.local/lib/python3.10/site-packages (from jedi>=0.16->ipython>=6.1.0->ipywidgets) (0.7.1)\n",
      "Requirement already satisfied: entrypoints in /home/pablo/.local/lib/python3.10/site-packages (from jupyter-client>=6.1.12->ipykernel>=4.5.1->ipywidgets) (0.4)\n",
      "Requirement already satisfied: jupyter-core>=4.9.2 in /home/pablo/.local/lib/python3.10/site-packages (from jupyter-client>=6.1.12->ipykernel>=4.5.1->ipywidgets) (4.11.1)\n",
      "Requirement already satisfied: wcwidth in /home/pablo/.local/lib/python3.10/site-packages (from prompt-toolkit!=3.0.0,!=3.0.1,<3.1.0,>=2.0.0->ipython>=6.1.0->ipywidgets) (0.2.5)\n",
      "Requirement already satisfied: six>=1.5 in /usr/lib/python3/dist-packages (from python-dateutil>=2.8.0->qiskit-ibmq-provider==0.19.2->qiskit) (1.16.0)\n",
      "Requirement already satisfied: cryptography>=1.3 in /usr/lib/python3/dist-packages (from requests-ntlm>=1.1.0->qiskit-ibmq-provider==0.19.2->qiskit) (3.4.8)\n",
      "Requirement already satisfied: ntlm-auth>=1.0.2 in /home/pablo/.local/lib/python3.10/site-packages (from requests-ntlm>=1.1.0->qiskit-ibmq-provider==0.19.2->qiskit) (1.5.0)\n",
      "Requirement already satisfied: pbr!=2.1.0,>=2.0.0 in /home/pablo/.local/lib/python3.10/site-packages (from stevedore>=3.0.0->qiskit-terra==0.21.2->qiskit) (5.10.0)\n",
      "Requirement already satisfied: mpmath>=0.19 in /home/pablo/.local/lib/python3.10/site-packages (from sympy>=1.3->qiskit-terra==0.21.2->qiskit) (1.2.1)\n",
      "Requirement already satisfied: pyparsing!=3.0.5,>=2.0.2 in /usr/lib/python3/dist-packages (from packaging->ipykernel>=4.5.1->ipywidgets) (2.4.7)\n",
      "Requirement already satisfied: asttokens in /home/pablo/.local/lib/python3.10/site-packages (from stack-data->ipython>=6.1.0->ipywidgets) (2.0.8)\n",
      "Requirement already satisfied: pure-eval in /home/pablo/.local/lib/python3.10/site-packages (from stack-data->ipython>=6.1.0->ipywidgets) (0.2.2)\n",
      "Requirement already satisfied: executing in /home/pablo/.local/lib/python3.10/site-packages (from stack-data->ipython>=6.1.0->ipywidgets) (1.0.0)\n"
     ]
    }
   ],
   "source": [
    "!pip3 install qiskit ipywidgets"
   ]
  },
  {
   "cell_type": "code",
   "execution_count": 3,
   "id": "CM2fBjkGys-6",
   "metadata": {
    "colab": {
     "base_uri": "https://localhost:8080/"
    },
    "id": "CM2fBjkGys-6",
    "outputId": "3894d855-3b27-4e74-fd53-d6fa55b7ea7e"
   },
   "outputs": [
    {
     "name": "stdout",
     "output_type": "stream",
     "text": [
      "--2022-09-22 12:56:51--  https://raw.githubusercontent.com/hkhetawat/QArithmetic/master/QArithmetic.py\n",
      "Resolving raw.githubusercontent.com (raw.githubusercontent.com)... 185.199.109.133, 185.199.111.133, 185.199.108.133, ...\n",
      "Connecting to raw.githubusercontent.com (raw.githubusercontent.com)|185.199.109.133|:443... connected.\n",
      "HTTP request sent, awaiting response... 200 OK\n",
      "Length: 13886 (14K) [text/plain]\n",
      "Saving to: ‘QArithmetic.py.1’\n",
      "\n",
      "QArithmetic.py.1    100%[===================>]  13,56K  --.-KB/s    in 0s      \n",
      "\n",
      "2022-09-22 12:56:51 (27,8 MB/s) - ‘QArithmetic.py.1’ saved [13886/13886]\n",
      "\n",
      "--2022-09-22 12:56:51--  https://raw.githubusercontent.com/hkhetawat/QArithmetic/master/qft.py\n",
      "Resolving raw.githubusercontent.com (raw.githubusercontent.com)... 185.199.108.133, 185.199.111.133, 185.199.110.133, ...\n",
      "Connecting to raw.githubusercontent.com (raw.githubusercontent.com)|185.199.108.133|:443... connected.\n",
      "HTTP request sent, awaiting response... 200 OK\n",
      "Length: 1820 (1,8K) [text/plain]\n",
      "Saving to: ‘qft.py.2’\n",
      "\n",
      "qft.py.2            100%[===================>]   1,78K  --.-KB/s    in 0s      \n",
      "\n",
      "2022-09-22 12:56:51 (21,0 MB/s) - ‘qft.py.2’ saved [1820/1820]\n",
      "\n"
     ]
    }
   ],
   "source": [
    "!wget https://raw.githubusercontent.com/hkhetawat/QArithmetic/master/QArithmetic.py\n",
    "!wget https://raw.githubusercontent.com/hkhetawat/QArithmetic/master/qft.py"
   ]
  },
  {
   "cell_type": "markdown",
   "id": "i44NUhE8cL1c",
   "metadata": {
    "id": "i44NUhE8cL1c"
   },
   "source": [
    "[Tutorial de QArithmetic](https://github.com/hkhetawat/QArithmetic/blob/master/QArithmetic.ipynb)"
   ]
  },
  {
   "cell_type": "code",
   "execution_count": 4,
   "id": "a07b651f",
   "metadata": {
    "colab": {
     "base_uri": "https://localhost:8080/"
    },
    "id": "a07b651f",
    "outputId": "fcc0d085-fe59-4bd8-cc40-54ba46ad82ce"
   },
   "outputs": [
    {
     "name": "stdout",
     "output_type": "stream",
     "text": [
      "Defaulting to user installation because normal site-packages is not writeable\n",
      "Requirement already satisfied: quantum-decomp in /home/pablo/.local/lib/python3.10/site-packages (1.1.1)\n",
      "Requirement already satisfied: numpy>=1.17 in /home/pablo/.local/lib/python3.10/site-packages (from quantum-decomp) (1.23.2)\n",
      "Defaulting to user installation because normal site-packages is not writeable\n",
      "Requirement already satisfied: pylatexenc in /home/pablo/.local/lib/python3.10/site-packages (2.10)\n"
     ]
    }
   ],
   "source": [
    "!pip install quantum-decomp\n",
    "!pip install pylatexenc"
   ]
  },
  {
   "cell_type": "code",
   "execution_count": 5,
   "id": "VKbP-vE1BFZJ",
   "metadata": {
    "colab": {
     "base_uri": "https://localhost:8080/"
    },
    "id": "VKbP-vE1BFZJ",
    "outputId": "9c7f03dd-b318-4be0-bea8-f8dc6e3ba832"
   },
   "outputs": [
    {
     "name": "stdout",
     "output_type": "stream",
     "text": [
      "Defaulting to user installation because normal site-packages is not writeable\n",
      "Collecting import-ipynb\n",
      "  Downloading import_ipynb-0.1.4-py3-none-any.whl (4.1 kB)\n",
      "Requirement already satisfied: IPython in /home/pablo/.local/lib/python3.10/site-packages (from import-ipynb) (8.4.0)\n",
      "Requirement already satisfied: nbformat in /home/pablo/.local/lib/python3.10/site-packages (from import-ipynb) (5.4.0)\n",
      "Requirement already satisfied: decorator in /home/pablo/.local/lib/python3.10/site-packages (from IPython->import-ipynb) (5.1.1)\n",
      "Requirement already satisfied: pexpect>4.3 in /usr/lib/python3/dist-packages (from IPython->import-ipynb) (4.8.0)\n",
      "Requirement already satisfied: stack-data in /home/pablo/.local/lib/python3.10/site-packages (from IPython->import-ipynb) (0.5.0)\n",
      "Requirement already satisfied: pygments>=2.4.0 in /home/pablo/.local/lib/python3.10/site-packages (from IPython->import-ipynb) (2.13.0)\n",
      "Requirement already satisfied: prompt-toolkit!=3.0.0,!=3.0.1,<3.1.0,>=2.0.0 in /home/pablo/.local/lib/python3.10/site-packages (from IPython->import-ipynb) (3.0.31)\n",
      "Requirement already satisfied: traitlets>=5 in /home/pablo/.local/lib/python3.10/site-packages (from IPython->import-ipynb) (5.3.0)\n",
      "Requirement already satisfied: backcall in /home/pablo/.local/lib/python3.10/site-packages (from IPython->import-ipynb) (0.2.0)\n",
      "Requirement already satisfied: pickleshare in /home/pablo/.local/lib/python3.10/site-packages (from IPython->import-ipynb) (0.7.5)\n",
      "Requirement already satisfied: matplotlib-inline in /home/pablo/.local/lib/python3.10/site-packages (from IPython->import-ipynb) (0.1.6)\n",
      "Requirement already satisfied: setuptools>=18.5 in /usr/lib/python3/dist-packages (from IPython->import-ipynb) (59.6.0)\n",
      "Requirement already satisfied: jedi>=0.16 in /home/pablo/.local/lib/python3.10/site-packages (from IPython->import-ipynb) (0.17.2)\n",
      "Requirement already satisfied: jsonschema>=2.6 in /home/pablo/.local/lib/python3.10/site-packages (from nbformat->import-ipynb) (4.15.0)\n",
      "Requirement already satisfied: fastjsonschema in /home/pablo/.local/lib/python3.10/site-packages (from nbformat->import-ipynb) (2.16.1)\n",
      "Requirement already satisfied: jupyter-core in /home/pablo/.local/lib/python3.10/site-packages (from nbformat->import-ipynb) (4.11.1)\n",
      "Requirement already satisfied: parso<0.8.0,>=0.7.0 in /home/pablo/.local/lib/python3.10/site-packages (from jedi>=0.16->IPython->import-ipynb) (0.7.1)\n",
      "Requirement already satisfied: attrs>=17.4.0 in /home/pablo/.local/lib/python3.10/site-packages (from jsonschema>=2.6->nbformat->import-ipynb) (18.2.0)\n",
      "Requirement already satisfied: pyrsistent!=0.17.0,!=0.17.1,!=0.17.2,>=0.14.0 in /home/pablo/.local/lib/python3.10/site-packages (from jsonschema>=2.6->nbformat->import-ipynb) (0.18.1)\n",
      "Requirement already satisfied: wcwidth in /home/pablo/.local/lib/python3.10/site-packages (from prompt-toolkit!=3.0.0,!=3.0.1,<3.1.0,>=2.0.0->IPython->import-ipynb) (0.2.5)\n",
      "Requirement already satisfied: pure-eval in /home/pablo/.local/lib/python3.10/site-packages (from stack-data->IPython->import-ipynb) (0.2.2)\n",
      "Requirement already satisfied: executing in /home/pablo/.local/lib/python3.10/site-packages (from stack-data->IPython->import-ipynb) (1.0.0)\n",
      "Requirement already satisfied: asttokens in /home/pablo/.local/lib/python3.10/site-packages (from stack-data->IPython->import-ipynb) (2.0.8)\n",
      "Requirement already satisfied: six in /usr/lib/python3/dist-packages (from asttokens->stack-data->IPython->import-ipynb) (1.16.0)\n",
      "Installing collected packages: import-ipynb\n",
      "Successfully installed import-ipynb-0.1.4\n"
     ]
    }
   ],
   "source": [
    "!pip install import-ipynb\n",
    "import import_ipynb"
   ]
  },
  {
   "cell_type": "code",
   "execution_count": 6,
   "id": "gnkM-hk9lmO8",
   "metadata": {
    "id": "gnkM-hk9lmO8"
   },
   "outputs": [],
   "source": [
    "#from google.colab import drive\n",
    "#drive.mount('/content/drive')\n",
    "#!cp /content/drive/MyDrive/Colab\\ Notebooks/quantum/*.py .\n",
    "#!ls ."
   ]
  },
  {
   "cell_type": "code",
   "execution_count": 2,
   "id": "YjBLRR7RmfWv",
   "metadata": {
    "id": "YjBLRR7RmfWv"
   },
   "outputs": [],
   "source": [
    "import pylatexenc\n",
    "from itertools import chain"
   ]
  },
  {
   "cell_type": "code",
   "execution_count": 3,
   "id": "6cd4d115-8494-40ab-9bae-bb823ebb831b",
   "metadata": {
    "colab": {
     "base_uri": "https://localhost:8080/",
     "height": 36
    },
    "id": "6cd4d115-8494-40ab-9bae-bb823ebb831b",
    "outputId": "01693357-b5ae-4d69-ecca-91e8b69d7538"
   },
   "outputs": [
    {
     "data": {
      "text/plain": [
       "'0.21.2'"
      ]
     },
     "execution_count": 3,
     "metadata": {},
     "output_type": "execute_result"
    }
   ],
   "source": [
    "import qiskit\n",
    "from qiskit import IBMQ\n",
    "from math import gcd,sin,cos,pi,log\n",
    "from cmath import exp\n",
    "import numpy as np\n",
    "from numpy import array\n",
    "import functools\n",
    "import sympy\n",
    "from sympy import Matrix\n",
    "import math\n",
    "from qiskit import Aer, IBMQ\n",
    "from qiskit import QuantumRegister, ClassicalRegister, QuantumCircuit, execute\n",
    "from qiskit.providers.ibmq import least_busy\n",
    "from qiskit.tools.monitor import job_monitor\n",
    "from qiskit.tools.visualization import plot_histogram\n",
    "from qiskit.providers.aer import noise\n",
    "from qiskit.circuit import Gate\n",
    "\n",
    "import QArithmetic\n",
    "import itertools\n",
    "\n",
    "qiskit.__version__"
   ]
  },
  {
   "cell_type": "code",
   "execution_count": 4,
   "id": "8187160b-cf81-4d42-967e-550afb94bfe5",
   "metadata": {
    "id": "8187160b-cf81-4d42-967e-550afb94bfe5"
   },
   "outputs": [
    {
     "ename": "NameError",
     "evalue": "name 'prov' is not defined",
     "output_type": "error",
     "traceback": [
      "\u001b[0;31m---------------------------------------------------------------------------\u001b[0m",
      "\u001b[0;31mNameError\u001b[0m                                 Traceback (most recent call last)",
      "Input \u001b[0;32mIn [4]\u001b[0m, in \u001b[0;36m<cell line: 3>\u001b[0;34m()\u001b[0m\n\u001b[1;32m      1\u001b[0m \u001b[38;5;66;03m#por qué no compila?\u001b[39;00m\n\u001b[1;32m      2\u001b[0m dev\u001b[38;5;241m=\u001b[39m\u001b[38;5;124m'\u001b[39m\u001b[38;5;124mibmq_qasm_simulator\u001b[39m\u001b[38;5;124m'\u001b[39m\n\u001b[0;32m----> 3\u001b[0m real_device \u001b[38;5;241m=\u001b[39m \u001b[43mprov\u001b[49m\u001b[38;5;241m.\u001b[39mget_backend(dev)\n\u001b[1;32m      4\u001b[0m \u001b[38;5;28;01mif\u001b[39;00m(dev\u001b[38;5;241m!=\u001b[39m\u001b[38;5;124m\"\u001b[39m\u001b[38;5;124mibmq_qasm_simulator\u001b[39m\u001b[38;5;124m\"\u001b[39m):\n\u001b[1;32m      5\u001b[0m   properties \u001b[38;5;241m=\u001b[39m real_device\u001b[38;5;241m.\u001b[39mproperties()\n",
      "\u001b[0;31mNameError\u001b[0m: name 'prov' is not defined"
     ]
    }
   ],
   "source": [
    "#por qué no compila?\n",
    "dev='ibmq_qasm_simulator'\n",
    "real_device = prov.get_backend(dev)\n",
    "if(dev!=\"ibmq_qasm_simulator\"):\n",
    "  properties = real_device.properties()\n",
    "  noise_model = noise.device.basic_device_noise_model(properties)\n",
    "  coupling_map = real_device.configuration().coupling_map"
   ]
  },
  {
   "cell_type": "code",
   "execution_count": 5,
   "id": "eacfe68d-b667-4fb2-851b-09571d905a5a",
   "metadata": {
    "id": "eacfe68d-b667-4fb2-851b-09571d905a5a"
   },
   "outputs": [],
   "source": [
    "#initialization\n",
    "import matplotlib.pyplot as plt\n",
    "import numpy as np\n",
    "\n",
    "# importing Qiskit\n",
    "from qiskit import IBMQ, Aer, assemble, transpile\n",
    "from qiskit import QuantumCircuit, ClassicalRegister, QuantumRegister\n",
    "from qiskit.providers.ibmq import least_busy\n",
    "\n",
    "# import basic plot tools\n",
    "from qiskit.visualization import plot_histogram\n",
    "\n",
    "#from QArithmetic import *"
   ]
  },
  {
   "cell_type": "markdown",
   "id": "86E2AbHtBaLi",
   "metadata": {
    "id": "86E2AbHtBaLi"
   },
   "source": []
  },
  {
   "cell_type": "markdown",
   "id": "OTQW7iuptzct",
   "metadata": {
    "id": "OTQW7iuptzct"
   },
   "source": [
    "# Diffusor"
   ]
  },
  {
   "cell_type": "code",
   "execution_count": 6,
   "id": "v-EfJoy7t3M5",
   "metadata": {
    "id": "v-EfJoy7t3M5"
   },
   "outputs": [],
   "source": [
    "def Diffusor(circ, f):\n",
    "    n = len(f)\n",
    "    \n",
    "    for i in range(n):\n",
    "        circ.h(f[i])\n",
    "        circ.x(f[i])\n",
    "    circ.barrier(range(n))\n",
    "    circ.h(f[0])\n",
    "    circ.mct(list(range(1, n)), 0)\n",
    "    circ.h(f[0])\n",
    "    circ.barrier(range(n))\n",
    "    for i in range(n):\n",
    "        circ.x(f[i])\n",
    "        circ.h(f[i])\n"
   ]
  },
  {
   "cell_type": "markdown",
   "id": "b8df4581-3548-439d-ab45-98e21e7dff04",
   "metadata": {
    "id": "b8df4581-3548-439d-ab45-98e21e7dff04"
   },
   "source": [
    "# Subcircuito nToffoli\n",
    "- Llamada= `nToffoliGate(n)`, con `n` el número de qbits de control\n",
    "- El subcircuito devuelto usará `n+(n-1)+1` qbits, los `n` primeros son los de control, los `n-1` siguientes son qbits auxiliares, el último es el resultado\n",
    "\n",
    "Esta puerta puede usarse para crear el `and` los $1$-qbits de un $n$-qbit"
   ]
  },
  {
   "cell_type": "code",
   "execution_count": 7,
   "id": "489637ba-4cf1-4a7b-b462-1fc7462fcc6a",
   "metadata": {
    "id": "489637ba-4cf1-4a7b-b462-1fc7462fcc6a"
   },
   "outputs": [],
   "source": [
    "def initQbits(p,n,cad=''):\n",
    "  a,lambdaI,s=[],[],[]\n",
    "  for i in range(p):\n",
    "    #print(n+i//2)\n",
    "    a.append(QuantumRegister(n,cad+\"a\"+str(i)))\n",
    "    lambdaI.append(QuantumRegister(n,cad+\"lambda\"+str(i)))\n",
    "    s.append(QuantumRegister(2*n+i,cad+\"s\"+str(i)))\n",
    "\n",
    "  qc = QuantumRegister(2*n+p-1,cad+'qc')\n",
    "  qr = QuantumRegister(1,cad+'qr')\n",
    "  qaux = QuantumRegister((2*n+p-1)-1,cad+\"qaux\")\n",
    "  return a,lambdaI,s,qc,qr,qaux\n",
    "\n",
    "def valorQR(circ,qreg,v): #toma un registro(qreg) y pone un número en binario en él\n",
    "  cad=bin(v) #-> 0bxxxxx...\n",
    "  if len(qreg)<len(cad)-2:\n",
    "    print(\"error al convertir en binario\")\n",
    "    return\n",
    "  i=0\n",
    "  while cad[-(i+1)]!='b':\n",
    "    if cad[-(i+1)]=='1':\n",
    "      circ.x(qreg[i]) #Puerta X\n",
    "    i=i+1\n",
    "\n",
    "def nToffoliGate(n):\n",
    "    ctrl = QuantumRegister(n,'ctrlToffoli')\n",
    "    anc = QuantumRegister(n-1,'ancToffoli')\n",
    "    tgt = QuantumRegister(1,'tgtToffoli')\n",
    "\n",
    "    circ = QuantumCircuit(ctrl, anc, tgt, name='n-Toffoli')\n",
    "    #qc = QuantumCircuit(1, name='X')\n",
    "\n",
    "    # compute\n",
    "    circ.ccx(ctrl[0], ctrl[1], anc[0])\n",
    "    for i in range(2, n):\n",
    "        circ.ccx(ctrl[i], anc[i-2], anc[i-1])\n",
    "\n",
    "    # copy\n",
    "    circ.cx(anc[n-2], tgt[0])\n",
    "\n",
    "    # uncompute\n",
    "    for i in range(n-1, 1, -1):\n",
    "        circ.ccx(ctrl[i], anc[i-2], anc[i-1])\n",
    "    circ.ccx(ctrl[0], ctrl[1], anc[0])\n",
    "    return circ.to_instruction()\n",
    "\n",
    "def nToffoliGateN1(n):\n",
    "    ctrl = QuantumRegister(n,'ctrlToffoli')\n",
    "    anc = QuantumRegister(n-1,'ancToffoli')\n",
    "    tgt = QuantumRegister(1,'tgtToffoli')\n",
    "\n",
    "    circ = QuantumCircuit(ctrl, tgt, anc, name='n-Toffoli n,1,n-1')\n",
    "    #qc = QuantumCircuit(1, name='X')\n",
    "\n",
    "    # compute\n",
    "    circ.ccx(ctrl[0], ctrl[1], anc[0])\n",
    "    for i in range(2, n):\n",
    "        circ.ccx(ctrl[i], anc[i-2], anc[i-1])\n",
    "\n",
    "    # copy\n",
    "    circ.cx(anc[n-2], tgt[0])\n",
    "\n",
    "    # uncompute\n",
    "    for i in range(n-1, 1, -1):\n",
    "        circ.ccx(ctrl[i], anc[i-2], anc[i-1])\n",
    "    circ.ccx(ctrl[0], ctrl[1], anc[0])\n",
    "    return circ.to_instruction()"
   ]
  },
  {
   "cell_type": "markdown",
   "id": "d39ec46d-ed85-4d57-9be0-e9921b40e0a0",
   "metadata": {
    "id": "d39ec46d-ed85-4d57-9be0-e9921b40e0a0"
   },
   "source": [
    "## Ejemplo de uso"
   ]
  },
  {
   "cell_type": "code",
   "execution_count": 8,
   "id": "cbefcc99-42af-4f8d-a27f-c4742d9db3c6",
   "metadata": {
    "colab": {
     "base_uri": "https://localhost:8080/",
     "height": 352
    },
    "id": "cbefcc99-42af-4f8d-a27f-c4742d9db3c6",
    "outputId": "bd15cb2c-fd26-4b89-c75f-b278c7726bd9"
   },
   "outputs": [
    {
     "data": {
      "image/png": "[encoded data removed]",
      "text/plain": [
       "<Figure size 700x500 with 1 Axes>"
      ]
     },
     "execution_count": 8,
     "metadata": {},
     "output_type": "execute_result"
    }
   ],
   "source": [
    "n = 3\n",
    "\n",
    "subC=nToffoliGate(n)\n",
    "qa = QuantumRegister(n,\"qa\")\n",
    "qaCopia = QuantumRegister(n,\"qaCopia\")\n",
    "qaux = QuantumRegister(n-1,\"qaux\")\n",
    "qr1 = QuantumRegister(1)\n",
    "\n",
    "caCopia = ClassicalRegister(n,\"caCopia\")\n",
    "cr =ClassicalRegister(1,\"resultado\")\n",
    "\n",
    "\n",
    "qcEn = QuantumCircuit(qa, qaux, qr1,qaCopia,caCopia,cr)\n",
    "\n",
    "qcEn.h(qa)\n",
    "qcEn.reset(qaux)\n",
    "qcEn.reset(qr1)\n",
    "qcEn.x(qr1)\n",
    "\n",
    "for i in range(n):\n",
    "    qcEn.cx(qa[i],qaCopia[i])\n",
    "\n",
    "qcEn.append(subC,list(qa)+list(qaux)+list(qr1))\n",
    "\n",
    "qcEn.measure(qaCopia,caCopia)\n",
    "qcEn.measure(qr1,cr)\n",
    "\n",
    "'''\n",
    "if(dev!=\"ibmq_qasm_simulator\"):\n",
    "  job = execute(qcEn, real_device, shots=1024, \n",
    "                      coupling_map=coupling_map,\n",
    "                      basis_gates=noise_model.basis_gates)\n",
    "else:\n",
    "  job = execute(qcEn, real_device, shots=1024)\n",
    "counts=job.result().get_counts()\n",
    "plot_histogram(counts)'''\n",
    "\n",
    "simulator = Aer.get_backend('aer_simulator')\n",
    "job = execute(qcEn, simulator, shots=1000)\n",
    "result = job.result()\n",
    "counts = result.get_counts()\n",
    "plot_histogram(counts)"
   ]
  },
  {
   "cell_type": "code",
   "execution_count": 9,
   "id": "AlUdqYunot_L",
   "metadata": {
    "id": "AlUdqYunot_L"
   },
   "outputs": [],
   "source": [
    "%matplotlib inline"
   ]
  },
  {
   "cell_type": "code",
   "execution_count": 10,
   "id": "6a185a13-410c-4929-ab53-62a5c931ad46",
   "metadata": {
    "colab": {
     "base_uri": "https://localhost:8080/"
    },
    "id": "6a185a13-410c-4929-ab53-62a5c931ad46",
    "outputId": "7675596b-f03a-4813-b6ba-b2b5bd37dd79"
   },
   "outputs": [
    {
     "name": "stdout",
     "output_type": "stream",
     "text": [
      "\\documentclass[border=2px]{standalone}\n",
      "\n",
      "\\usepackage[braket, qm]{qcircuit}\n",
      "\\usepackage{graphicx}\n",
      "\n",
      "\\begin{document}\n",
      "\\scalebox{1.0}{\n",
      "\\Qcircuit @C=1.0em @R=0.2em @!R { \\\\\n",
      "\t \t\\nghost{{qa}_{0} :  } & \\lstick{{qa}_{0} :  } & \\gate{\\mathrm{H}} & \\qw & \\ctrl{6} & \\qw & \\qw & \\multigate{5}{\\mathrm{n\\mbox{-}Toffoli}}_<<<{0} & \\qw & \\qw & \\qw & \\qw & \\qw\\\\\n",
      "\t \t\\nghost{{qa}_{1} :  } & \\lstick{{qa}_{1} :  } & \\gate{\\mathrm{H}} & \\qw & \\qw & \\ctrl{6} & \\qw & \\ghost{\\mathrm{n\\mbox{-}Toffoli}}_<<<{1} & \\qw & \\qw & \\qw & \\qw & \\qw\\\\\n",
      "\t \t\\nghost{{qa}_{2} :  } & \\lstick{{qa}_{2} :  } & \\gate{\\mathrm{H}} & \\qw & \\qw & \\qw & \\ctrl{6} & \\ghost{\\mathrm{n\\mbox{-}Toffoli}}_<<<{2} & \\qw & \\qw & \\qw & \\qw & \\qw\\\\\n",
      "\t \t\\nghost{{qaux}_{0} :  } & \\lstick{{qaux}_{0} :  } & \\gate{\\mathrm{\\left|0\\right\\rangle}} & \\qw & \\qw & \\qw & \\qw & \\ghost{\\mathrm{n\\mbox{-}Toffoli}}_<<<{3} & \\qw & \\qw & \\qw & \\qw & \\qw\\\\\n",
      "\t \t\\nghost{{qaux}_{1} :  } & \\lstick{{qaux}_{1} :  } & \\gate{\\mathrm{\\left|0\\right\\rangle}} & \\qw & \\qw & \\qw & \\qw & \\ghost{\\mathrm{n\\mbox{-}Toffoli}}_<<<{4} & \\qw & \\qw & \\qw & \\qw & \\qw\\\\\n",
      "\t \t\\nghost{{q0} :  } & \\lstick{{q0} :  } & \\gate{\\mathrm{\\left|0\\right\\rangle}} & \\gate{\\mathrm{X}} & \\qw & \\qw & \\qw & \\ghost{\\mathrm{n\\mbox{-}Toffoli}}_<<<{5} & \\qw & \\qw & \\meter & \\qw & \\qw\\\\\n",
      "\t \t\\nghost{{qaCopia}_{0} :  } & \\lstick{{qaCopia}_{0} :  } & \\qw & \\qw & \\targ & \\qw & \\qw & \\meter & \\qw & \\qw & \\qw & \\qw & \\qw\\\\\n",
      "\t \t\\nghost{{qaCopia}_{1} :  } & \\lstick{{qaCopia}_{1} :  } & \\qw & \\qw & \\qw & \\targ & \\qw & \\qw & \\meter & \\qw & \\qw & \\qw & \\qw\\\\\n",
      "\t \t\\nghost{{qaCopia}_{2} :  } & \\lstick{{qaCopia}_{2} :  } & \\qw & \\qw & \\qw & \\qw & \\targ & \\qw & \\qw & \\meter & \\qw & \\qw & \\qw\\\\\n",
      "\t \t\\nghost{\\mathrm{{caCopia} :  }} & \\lstick{\\mathrm{{caCopia} :  }} & \\lstick{/_{_{3}}} \\cw & \\cw & \\cw & \\cw & \\cw & \\dstick{_{_{\\hspace{0.0em}0}}} \\cw \\ar @{<=} [-3,0] & \\dstick{_{_{\\hspace{0.0em}1}}} \\cw \\ar @{<=} [-2,0] & \\dstick{_{_{\\hspace{0.0em}2}}} \\cw \\ar @{<=} [-1,0] & \\cw & \\cw & \\cw\\\\\n",
      "\t \t\\nghost{\\mathrm{{resultado} :  }} & \\lstick{\\mathrm{{resultado} :  }} & \\lstick{/_{_{1}}} \\cw & \\cw & \\cw & \\cw & \\cw & \\cw & \\cw & \\cw & \\dstick{_{_{\\hspace{0.0em}0}}} \\cw \\ar @{<=} [-5,0] & \\cw & \\cw\\\\\n",
      "\\\\ }}\n",
      "\\end{document}\n"
     ]
    }
   ],
   "source": [
    "#qcEn.draw(output='latex')\n",
    "print( qcEn.draw(\"latex_source\") )"
   ]
  },
  {
   "cell_type": "markdown",
   "id": "315e1a76-81e3-4968-9e50-284affb941c5",
   "metadata": {
    "id": "315e1a76-81e3-4968-9e50-284affb941c5"
   },
   "source": [
    "# Igualdad entre dos $n$-qbits\n",
    "La llamada es de la forma \n",
    "`subC=equalityOfTwoNqbits(n)` \n",
    "`qcEn.append(subC,list(qa)+list(qb)+list(qc)+list(qr)+list(qaux))`\n",
    "con `qa`, `qb`, `qc` $n$-qbits\n",
    "qr un $1$-qbit\n",
    "y `qaux`un $n-1$-qbit"
   ]
  },
  {
   "cell_type": "code",
   "execution_count": 11,
   "id": "1bfca1cf-73ca-4e53-b7ff-7136c5ffe656",
   "metadata": {
    "id": "1bfca1cf-73ca-4e53-b7ff-7136c5ffe656"
   },
   "outputs": [],
   "source": [
    "def equalityOfTwoNqbits(n):\n",
    "    qa = QuantumRegister(n,'a')\n",
    "    qb = QuantumRegister(n,'b')\n",
    "    qc = QuantumRegister(n,'qc')\n",
    "    qr = QuantumRegister(1,'qr')\n",
    "    \n",
    "    qaux = QuantumRegister(n-1,\"qaux\")\n",
    "\n",
    "    circ = QuantumCircuit(qa, qb, qc, qr, qaux, name='equality')\n",
    "    circ.x(qa)\n",
    "    QArithmetic.bitwise_xor(circ,qa,qb,qc,n)\n",
    "    subC=nToffoliGate(n)\n",
    "    \n",
    "    circ.append(subC,list(qc)+list(qaux)+list(qr))\n",
    "    return circ.to_instruction()"
   ]
  },
  {
   "cell_type": "markdown",
   "id": "cdeeb92f-eaca-4cd1-91c3-8461b38d906d",
   "metadata": {
    "id": "cdeeb92f-eaca-4cd1-91c3-8461b38d906d"
   },
   "source": [
    "## Ejemplo de uso"
   ]
  },
  {
   "cell_type": "code",
   "execution_count": 12,
   "id": "989a4fcc-9788-4510-bfb5-0ffb1cfa97c2",
   "metadata": {
    "id": "989a4fcc-9788-4510-bfb5-0ffb1cfa97c2"
   },
   "outputs": [
    {
     "name": "stdout",
     "output_type": "stream",
     "text": [
      "QuantumRegister(7, 's1')\n",
      "QuantumRegister(7, 'b')\n",
      "QuantumRegister(7, 'qc')\n",
      "QuantumRegister(1, 'qr')\n",
      "QuantumRegister(6, 'qaux')\n",
      "ClassicalRegister(1, 'out')\n"
     ]
    },
    {
     "ename": "NameError",
     "evalue": "name 'prov' is not defined",
     "output_type": "error",
     "traceback": [
      "\u001b[0;31m---------------------------------------------------------------------------\u001b[0m",
      "\u001b[0;31mNameError\u001b[0m                                 Traceback (most recent call last)",
      "Input \u001b[0;32mIn [12]\u001b[0m, in \u001b[0;36m<cell line: 25>\u001b[0;34m()\u001b[0m\n\u001b[1;32m     22\u001b[0m circ\u001b[38;5;241m.\u001b[39mdraw()\n\u001b[1;32m     24\u001b[0m dev\u001b[38;5;241m=\u001b[39m\u001b[38;5;124m'\u001b[39m\u001b[38;5;124mibmq_qasm_simulator\u001b[39m\u001b[38;5;124m'\u001b[39m\n\u001b[0;32m---> 25\u001b[0m real_device \u001b[38;5;241m=\u001b[39m \u001b[43mprov\u001b[49m\u001b[38;5;241m.\u001b[39mget_backend(dev)\n\u001b[1;32m     26\u001b[0m job1 \u001b[38;5;241m=\u001b[39m execute(circ, real_device, shots\u001b[38;5;241m=\u001b[39m\u001b[38;5;241m1024\u001b[39m)\n\u001b[1;32m     27\u001b[0m result \u001b[38;5;241m=\u001b[39m job1\u001b[38;5;241m.\u001b[39mresult()\n",
      "\u001b[0;31mNameError\u001b[0m: name 'prov' is not defined"
     ]
    }
   ],
   "source": [
    "p,n=2,3\n",
    "\n",
    "eq=equalityOfTwoNqbits(2*n+p-1)\n",
    "b=QuantumRegister(2*n+p-1,\"b\")\n",
    "a,lambdaI,s,qc,qr,qaux=initQbits(p,n)\n",
    "salida=ClassicalRegister(1,\"out\")\n",
    "\n",
    "circ=QuantumCircuit(b,*a,*lambdaI,*s,qc,qr,qaux,salida,name=\"equality\")\n",
    "valorQR(circ,s[-1],3*2+4*5)\n",
    "valorQR(circ,b,3*2+4*5)\n",
    "circ.append(eq, list(s[-1])+list(b)+list(qc)+list(qr)+list(qaux) )\n",
    "\n",
    "print(s[-1])\n",
    "print(b)\n",
    "print(qc)\n",
    "print(qr)\n",
    "print(qaux)\n",
    "print(salida)\n",
    "\n",
    "circ.measure(qr,salida)\n",
    "\n",
    "circ.draw()\n",
    "\n",
    "dev='ibmq_qasm_simulator'\n",
    "real_device = prov.get_backend(dev)\n",
    "job1 = execute(circ, real_device, shots=1024)\n",
    "result = job1.result()\n",
    "counts = result.get_counts()\n",
    "plot_histogram(counts)\n",
    "print(counts)"
   ]
  },
  {
   "cell_type": "markdown",
   "id": "114c136a",
   "metadata": {
    "id": "114c136a"
   },
   "source": [
    "# Sum of list of $p$ $n$-qbits\n",
    "\n",
    "La llamada es de la forma `subC=additionOfnqbits(p,n)`, donde $p$ es el número de valores a sumar y $n$ es el número de bits del más pequeño"
   ]
  },
  {
   "cell_type": "code",
   "execution_count": 13,
   "id": "c8324e3b",
   "metadata": {
    "id": "c8324e3b"
   },
   "outputs": [],
   "source": [
    "def additionOfnqbits(p,n):\n",
    "    lnqbits=[]\n",
    "    for i in range(p):\n",
    "        lnqbits.append( QuantumRegister(n+i,'x'+str(i)) )\n",
    "        #print(n+i)\n",
    "    circ = QuantumCircuit(*lnqbits, name='p_Addition')\n",
    "    for i in range(p-1):\n",
    "        QArithmetic.add(circ,lnqbits[i],lnqbits[i+1],n+i)\n",
    "    return circ.to_instruction()"
   ]
  },
  {
   "cell_type": "markdown",
   "id": "fc5ec53d",
   "metadata": {
    "id": "fc5ec53d"
   },
   "source": [
    "## Ejemplo de uso"
   ]
  },
  {
   "cell_type": "code",
   "execution_count": 14,
   "id": "29fced27",
   "metadata": {
    "id": "29fced27"
   },
   "outputs": [
    {
     "ename": "NameError",
     "evalue": "name 'prov' is not defined",
     "output_type": "error",
     "traceback": [
      "\u001b[0;31m---------------------------------------------------------------------------\u001b[0m",
      "\u001b[0;31mNameError\u001b[0m                                 Traceback (most recent call last)",
      "Input \u001b[0;32mIn [14]\u001b[0m, in \u001b[0;36m<cell line: 31>\u001b[0;34m()\u001b[0m\n\u001b[1;32m     28\u001b[0m circ\u001b[38;5;241m.\u001b[39mmeasure(lnqbits[\u001b[38;5;241m-\u001b[39m\u001b[38;5;241m1\u001b[39m],result)\n\u001b[1;32m     30\u001b[0m dev\u001b[38;5;241m=\u001b[39m\u001b[38;5;124m'\u001b[39m\u001b[38;5;124mibmq_qasm_simulator\u001b[39m\u001b[38;5;124m'\u001b[39m\n\u001b[0;32m---> 31\u001b[0m real_device \u001b[38;5;241m=\u001b[39m \u001b[43mprov\u001b[49m\u001b[38;5;241m.\u001b[39mget_backend(dev)\n\u001b[1;32m     32\u001b[0m simulator \u001b[38;5;241m=\u001b[39m Aer\u001b[38;5;241m.\u001b[39mget_backend(\u001b[38;5;124m'\u001b[39m\u001b[38;5;124maer_simulator\u001b[39m\u001b[38;5;124m'\u001b[39m)\n\u001b[1;32m     33\u001b[0m job1 \u001b[38;5;241m=\u001b[39m execute(circ, simulator, shots\u001b[38;5;241m=\u001b[39m\u001b[38;5;241m1024\u001b[39m)\n",
      "\u001b[0;31mNameError\u001b[0m: name 'prov' is not defined"
     ]
    }
   ],
   "source": [
    "p=3\n",
    "n=3\n",
    "subC=additionOfnqbits(p,n)\n",
    "lnqbits=[]\n",
    "lnqbitsCopy=[]\n",
    "lnCbits=[]\n",
    "for i in range(p):\n",
    "    lnqbits.append( QuantumRegister(n+i,'qx'+str(i)) )\n",
    "    lnqbitsCopy.append( QuantumRegister(n+i,'qxCopy'+str(i)) )\n",
    "    lnCbits.append(ClassicalRegister(n+i,'xCopy'+str(i)) )\n",
    "    \n",
    "result=ClassicalRegister(n+p-1,\"result\")\n",
    "\n",
    "circ=QuantumCircuit(*lnqbits,*lnqbitsCopy,*lnCbits,result)\n",
    "\n",
    "#circ.x(lnqbits[0][0])\n",
    "#circ.x(lnqbits[1][0])\n",
    "\n",
    "for i,(q,qCopia) in enumerate(zip(lnqbits,lnqbitsCopy)):\n",
    "    circ.h(q[:2])\n",
    "    circ.cx(q,qCopia)\n",
    "\n",
    "circ.append(subC,list(itertools.chain.from_iterable(lnqbits)))\n",
    "\n",
    "for i,(qCopia,cbyte) in enumerate(zip(lnqbitsCopy,lnCbits)):\n",
    "    circ.measure(qCopia,cbyte)\n",
    "\n",
    "circ.measure(lnqbits[-1],result)\n",
    "\n",
    "dev='ibmq_qasm_simulator'\n",
    "real_device = prov.get_backend(dev)\n",
    "simulator = Aer.get_backend('aer_simulator')\n",
    "job1 = execute(circ, simulator, shots=1024)\n",
    "counts=job1.result().get_counts()\n",
    "print(\"Ejecución en ibmq_qasm_simulator:\",counts)\n",
    "\n",
    "circ.draw('mpl')"
   ]
  },
  {
   "cell_type": "code",
   "execution_count": null,
   "id": "3433924f",
   "metadata": {
    "id": "3433924f"
   },
   "outputs": [],
   "source": [
    "dev='ibmq_qasm_simulator'\n",
    "real_device = prov.get_backend(dev)\n",
    "simulator = Aer.get_backend('aer_simulator')\n",
    "job1 = execute(circ, real_device, shots=1024)\n",
    "counts=job1.result().get_counts()\n",
    "print(\"Ejecución en ibmq_qasm_simulator:\",counts)"
   ]
  },
  {
   "cell_type": "code",
   "execution_count": null,
   "id": "0cbdc9ed",
   "metadata": {
    "id": "0cbdc9ed"
   },
   "outputs": [],
   "source": [
    "plot_histogram(counts)"
   ]
  },
  {
   "cell_type": "markdown",
   "id": "b089ca29",
   "metadata": {
    "id": "b089ca29"
   },
   "source": [
    "# Linear combination \n",
    "Parece que es mejor la función [WeightedAdder](https://qiskit.org/documentation/stubs/qiskit.circuit.library.WeightedAdder.html#qiskit.circuit.library.WeightedAdder) que trae qiskit"
   ]
  },
  {
   "cell_type": "code",
   "execution_count": 1,
   "id": "2bed7720",
   "metadata": {
    "id": "2bed7720"
   },
   "outputs": [],
   "source": [
    "def linearCombination(p,n):\n",
    "    lqai=[]\n",
    "    lqlambdai=[]\n",
    "    lqauxi=[]\n",
    "    for i in range(p):\n",
    "        impar=i%2==1\n",
    "        lqai.append(QuantumRegister(n,'a'+str(i)))\n",
    "        lqlambdai.append(QuantumRegister(n,'lambda'+str(i)))\n",
    "        lqauxi.append(QuantumRegister(2*n+i,'aux'+str(i)))\n",
    "    circ=QuantumCircuit(*lqai,*lqlambdai,*lqauxi,\n",
    "                        name='lambda_i*a_i')\n",
    "    for i in range(p):\n",
    "      QArithmetic.mult(circ,lqai[i],lqlambdai[i],lqauxi[i][:2*n],len(lqai[i]))\n",
    "    subcirc=additionOfnqbits(p,2*n)\n",
    "    circ.append(subcirc, list(itertools.chain.from_iterable(lqauxi)))\n",
    "    \n",
    "    return circ #.to_instruction()"
   ]
  },
  {
   "cell_type": "markdown",
   "id": "KOFTk8t7pWZ6",
   "metadata": {
    "id": "KOFTk8t7pWZ6"
   },
   "source": [
    "## *Ejemplo 1*"
   ]
  },
  {
   "cell_type": "code",
   "execution_count": null,
   "id": "fAg82tJRrVQj",
   "metadata": {
    "id": "fAg82tJRrVQj"
   },
   "outputs": [],
   "source": [
    "from itertools import chain"
   ]
  },
  {
   "cell_type": "code",
   "execution_count": null,
   "id": "3mQmklOYpU2p",
   "metadata": {
    "id": "3mQmklOYpU2p"
   },
   "outputs": [],
   "source": [
    "p=2\n",
    "n=3\n",
    "lcombC=linearCombination(p,n)\n",
    "\n",
    "a=[]\n",
    "lambdaI=[]\n",
    "s=[]\n",
    "for i in range(p):\n",
    "  print(n+i//2)\n",
    "  a.append(QuantumRegister(n+i//2,\"a\"+str(i)))\n",
    "  lambdaI.append(QuantumRegister(n+i//2,\"lambda\"+str(i)))\n",
    "  s.append(QuantumRegister(2*n+i,\"s\"+str(i)))\n",
    "\n",
    "m=ClassicalRegister(2*n+1)\n",
    "\n",
    "#qc=QuantumCircuit( a[0], a[1], a[2], lambdaI[0], lambdaI[1], lambdaI[2], s[0], s[1], s[2], m )\n",
    "qc=QuantumCircuit( a[0], a[1], lambdaI[0], lambdaI[1], s[0], s[1], m )\n",
    "\n",
    "\n",
    "valorQR(qc,a[0],2)\n",
    "valorQR(qc,a[1],5)\n",
    "valorQR(qc,lambdaI[0],5)\n",
    "valorQR(qc,lambdaI[1],3)\n",
    "qc.h([0])\n",
    "print(len(list(chain.from_iterable(a))+\\\n",
    "          list(chain.from_iterable(lambdaI))+\\\n",
    "          list(chain.from_iterable(s))))\n",
    "qc.append(lcombC,list(chain.from_iterable(a))+\\\n",
    "          list(chain.from_iterable(lambdaI))+\\\n",
    "          list(chain.from_iterable(s)) )\n",
    "\n",
    "qc.measure(s[1],m)\n",
    "\n",
    "qc.draw()"
   ]
  },
  {
   "cell_type": "code",
   "execution_count": null,
   "id": "fIek7kNowWdl",
   "metadata": {
    "id": "fIek7kNowWdl"
   },
   "outputs": [],
   "source": [
    "dev='ibmq_qasm_simulator'\n",
    "real_device = prov.get_backend(dev)\n",
    "simulator = Aer.get_backend('aer_simulator')\n",
    "job1 = execute(qc, real_device, shots=1024)\n",
    "counts=job1.result().get_counts()\n",
    "print(\"Ejecución en ibmq_qasm_simulator:\",counts)"
   ]
  },
  {
   "cell_type": "code",
   "execution_count": null,
   "id": "e46a3d2b",
   "metadata": {
    "id": "e46a3d2b",
    "scrolled": false
   },
   "outputs": [],
   "source": [
    "linearCombination(3,2).draw('mpl')"
   ]
  },
  {
   "cell_type": "markdown",
   "id": "fnS4cnEqHRhO",
   "metadata": {
    "id": "fnS4cnEqHRhO"
   },
   "source": [
    "##*Ejemplo 2*"
   ]
  },
  {
   "cell_type": "code",
   "execution_count": null,
   "id": "JgV0xz7xuGAM",
   "metadata": {
    "id": "JgV0xz7xuGAM"
   },
   "outputs": [],
   "source": [
    "p=2\n",
    "n=3\n",
    "lcombC=linearCombination(p,n)\n",
    "\n",
    "a=[]\n",
    "lambdaI=[]\n",
    "s=[]\n",
    "for i in range(p):\n",
    "  print(n+i//2)\n",
    "  a.append(QuantumRegister(n+i//2,\"a\"+str(i)))\n",
    "  lambdaI.append(QuantumRegister(n+i//2,\"lambda\"+str(i)))\n",
    "  s.append(QuantumRegister(2*n+i,\"s\"+str(i)))\n",
    "\n",
    "m=ClassicalRegister(2*n+1)\n",
    "\n",
    "#qc=QuantumCircuit( a[0], a[1], a[2], lambdaI[0], lambdaI[1], lambdaI[2], s[0], s[1], s[2], m )\n",
    "qc=QuantumCircuit( a[0], a[1],  lambdaI[0], lambdaI[1], s[0], s[1], m )\n",
    "\n",
    "\n",
    "valorQR(qc,a[0],2)\n",
    "valorQR(qc,a[1],5)\n",
    "#valorQR(qc,a[2], 1)\n",
    "valorQR(qc,lambdaI[0],5)\n",
    "valorQR(qc,lambdaI[1],3)\n",
    "#valorQR(qc,lambdaI[2],3)\n",
    "qc.h([0])\n",
    "print(len(list(chain.from_iterable(a))+\\\n",
    "          list(chain.from_iterable(lambdaI))+\\\n",
    "          list(chain.from_iterable(s))))\n",
    "qc.append(lcombC,list(chain.from_iterable(a))+\\\n",
    "          list(chain.from_iterable(lambdaI))+\\\n",
    "          list(chain.from_iterable(s)) )\n",
    "\n",
    "qc.measure(s[1],m)\n",
    "\n",
    "qc.draw()"
   ]
  },
  {
   "cell_type": "markdown",
   "id": "tI7kvZ3-m3O_",
   "metadata": {
    "id": "tI7kvZ3-m3O_"
   },
   "source": [
    "# Igualdad de $b$ con $\\sum_{i=1}^p a_i\\lambda_i$"
   ]
  },
  {
   "cell_type": "code",
   "execution_count": null,
   "id": "2OdRPvTS6p8a",
   "metadata": {
    "id": "2OdRPvTS6p8a"
   },
   "outputs": [],
   "source": [
    "def equalityOfLCwithB(p,n):\n",
    "  '''\n",
    "  en append poner(b,*a,*lambdaI,*s,qc,qr,qaux)\n",
    "  (2*n+p-1,\\n[n+i//2 for i in range(p)],\n",
    "  cad=cad+\"[n+i//2 for i in range(p)],\n",
    "  cad=cad+\"\\n[n+i//2 for i in range(p)],\n",
    "  cad=cad+\"2*n+p-1,1,2*n+p-2)\n",
    "  '''\n",
    "  b=QuantumRegister(2*n+p-1,\"b\")\n",
    "  #a=[]\n",
    "  #lambdaI=[]\n",
    "  #s=[]\n",
    "  a,lambdaI,s,qc,qr,qaux=initQbits(p,n)\n",
    "\n",
    "  lcombC=linearCombination(p,n)\n",
    "  eq=equalityOfTwoNqbits(2*n+p-1)\n",
    "  #subC=equalityOfTwoNqbits(n)\n",
    "  cad=\"eq\\n(b,*a,*lambdaI,*s,qc,qr,qaux)\"\n",
    "  cad=cad+\"(2*n+p-1,\\n[n+i//2 for i in range(p)],\"\n",
    "  cad=cad+\"[n+i//2 for i in range(p)],\"\n",
    "  cad=cad+\"\\n[n+i//2 for i in range(p)],\"\n",
    "  cad=cad+\"2*n+p-1,1,2*n+p-2)\"\n",
    "  print(cad)\n",
    "  circ=QuantumCircuit(b,*a,*lambdaI,*s,qc,qr,qaux,name=\"equality\")\n",
    "\n",
    "  circ.append(lcombC,\\\n",
    "              list( chain.from_iterable(a) )+\\\n",
    "              list( chain.from_iterable(lambdaI) )+\\\n",
    "              list( chain.from_iterable(s) ) )\n",
    "  \n",
    "  \n",
    "  print(s[-1])\n",
    "  print(b)\n",
    "  print(qc)\n",
    "  print(qr)\n",
    "  print(qaux)\n",
    "  print(salida)\n",
    "  print(2*n+p-1) \n",
    "\n",
    "  circ.append(eq, list(s[-1])+list(b)+list(qc)+list(qr)+list(qaux) )\n",
    "  #qcEn.append(subC,list(qa)+list(qb)+list(qc)+list(qr)+list(qaux))\n",
    "\n",
    "  return circ.to_instruction()"
   ]
  },
  {
   "cell_type": "markdown",
   "id": "cI0L170J6Esa",
   "metadata": {
    "id": "cI0L170J6Esa"
   },
   "source": [
    "## Ejemplo (falla con $p=2$ y $n=3$, no sé por qué!)"
   ]
  },
  {
   "cell_type": "code",
   "execution_count": null,
   "id": "fhfw8QCsyggz",
   "metadata": {
    "id": "fhfw8QCsyggz"
   },
   "outputs": [],
   "source": [
    "# tenemos 2 generadores de 4 bits (2**6-1=63 es el valor máximo para estos números)\n",
    "# el valor de b puede llegar hasta 2^(2*n+p-1)-1=16383\n",
    "p,n=2,3\n",
    "b=QuantumRegister(2*n+p-1,\"b\")\n",
    "a,lambdaI,s,qc,qr,qaux=initQbits(p,n)\n",
    "salida=ClassicalRegister(1,\"out\")\n",
    "subCircEq=equalityOfLCwithB(p,n)\n",
    "\n",
    "circ=QuantumCircuit(b,*a,*lambdaI,*s,qc,qr,qaux,salida) #,qminus)\n",
    "# si no me equivoco, con esto ya tenemos un Grover Oracle\n",
    "#circ.x(qr)\n",
    "#circ.h(qr)\n",
    "\n",
    "valorQR(circ,a[0],2)\n",
    "valorQR(circ,a[1],5)\n",
    "#valorQR(circ,a[2],5)\n",
    "valorQR(circ,lambdaI[0],3)\n",
    "valorQR(circ,lambdaI[1],4)\n",
    "#valorQR(circ,lambdaI[2],1)\n",
    "\n",
    "# si ponemos b igual a la combinación a_0*lambda_0+a_1*lambda_1+a_2*lambda_2,\n",
    "# tiene que dar 1. Para otro valor de b tiene que dar 0\n",
    "valorQR(circ,b,3*2+4*5)\n",
    "\n",
    "circ.append(subCircEq,list(b)+\\\n",
    "          list(chain.from_iterable(a))+\\\n",
    "          list(chain.from_iterable(lambdaI))+\\\n",
    "          list(chain.from_iterable(s))+\\\n",
    "          list(qc)+list(qr)+list(qaux) )\n",
    "\n",
    "print(s[-1])\n",
    "print(b)\n",
    "print(qc)\n",
    "print(qr)\n",
    "print(qaux)\n",
    "print(salida)\n",
    "\n",
    "circ.measure(qr,salida)\n",
    "circ.draw()"
   ]
  },
  {
   "cell_type": "code",
   "execution_count": null,
   "id": "xU5YLa1r5n97",
   "metadata": {
    "id": "xU5YLa1r5n97"
   },
   "outputs": [],
   "source": [
    "dev='ibmq_qasm_simulator'\n",
    "real_device = prov.get_backend(dev)\n",
    "#simulator = Aer.get_backend('aer_simulator')\n",
    "job1 = execute(circ, real_device, shots=1000)\n",
    "counts=job1.result().get_counts()\n",
    "print(\"Ejecución en ibmq_qasm_simulator:\",counts)"
   ]
  },
  {
   "cell_type": "markdown",
   "id": "nuL9SAHYXrYI",
   "metadata": {
    "id": "nuL9SAHYXrYI"
   },
   "source": [
    "El número de vueltas que tenemos que dar en Grover es de $\\sqrt{2^{\\sum_{i=0}^{p-1}n+\\lfloor \\frac{i}2\\rfloor}}$"
   ]
  },
  {
   "cell_type": "code",
   "execution_count": null,
   "id": "0lbMw6JygYDn",
   "metadata": {
    "id": "0lbMw6JygYDn"
   },
   "outputs": [],
   "source": [
    "p,n=2,3\n",
    "#sum([n+i//2 for i in range(p)])\n",
    "math.sqrt( 2**( sum([n+i//2 for i in range(p)]) ) )"
   ]
  },
  {
   "cell_type": "markdown",
   "id": "4uH0Ye063HGM",
   "metadata": {
    "id": "4uH0Ye063HGM"
   },
   "source": [
    "# Función $U_s$ para Grover"
   ]
  },
  {
   "cell_type": "code",
   "execution_count": null,
   "id": "V9R8Eu-B42UW",
   "metadata": {
    "id": "V9R8Eu-B42UW"
   },
   "outputs": [],
   "source": [
    "def difussorUn(n):\n",
    "  qa=QuantumRegister(n,\"qa\")\n",
    "  qaux=QuantumRegister(n-2,\"qaux\")\n",
    "  qcUn=QuantumCircuit(qa,qaux,name=\"Diffuser(\"+str(n)+\",\"+str(n-2)+\" aux)\")\n",
    "\n",
    "  qcUn.h(qa)\n",
    "  subC=nToffoliGateN1(n-1)\n",
    "  for i in range(n):\n",
    "    qcUn.x(i)\n",
    "  qcUn.h(n-1)\n",
    "  qcUn.append(subC,list(qa[:n-1])+list(qa[n-1:n])+list(qaux))\n",
    "  qcUn.h(n-1)\n",
    "  qcUn.barrier()\n",
    "  for i in range(n):\n",
    "    qcUn.x(i)\n",
    "  qcUn.h(qa)\n",
    "\n",
    "  return qcUn.to_instruction()"
   ]
  },
  {
   "cell_type": "code",
   "execution_count": null,
   "id": "5Rp-mVGmIQ5E",
   "metadata": {
    "colab": {
     "base_uri": "https://localhost:8080/",
     "height": 294
    },
    "id": "5Rp-mVGmIQ5E",
    "outputId": "f7ad9694-4160-45a3-c430-75759e314e15"
   },
   "outputs": [
    {
     "name": "stdout",
     "output_type": "stream",
     "text": [
      "(0.75+0j) (-0.25-0j) (-0.25-0j) (-0.25-0j) (-0.25-0j) (-0.25-0j) (-0.25-0j) (-0.25-0j) \n",
      "(-0.25-0j) (0.75+0j) (-0.25-0j) (-0.25-0j) (-0.25-0j) (-0.25-0j) (-0.25-0j) (-0.25-0j) \n",
      "(-0.25-0j) (-0.25-0j) (0.75+0j) (-0.25-0j) (-0.25-0j) (-0.25-0j) (-0.25-0j) (-0.25-0j) \n",
      "(-0.25-0j) (-0.25-0j) (-0.25-0j) (0.75+0j) (-0.25-0j) (-0.25-0j) (-0.25-0j) (-0.25-0j) \n",
      "(-0.25-0j) (-0.25-0j) (-0.25-0j) (-0.25-0j) (0.75+0j) (-0.25-0j) (-0.25-0j) (-0.25-0j) \n",
      "(-0.25-0j) (-0.25-0j) (-0.25-0j) (-0.25-0j) (-0.25-0j) (0.75+0j) (-0.25-0j) (-0.25-0j) \n",
      "(-0.25-0j) (-0.25-0j) (-0.25-0j) (-0.25-0j) (-0.25-0j) (-0.25-0j) (0.75+0j) (-0.25-0j) \n",
      "(-0.25-0j) (-0.25-0j) (-0.25-0j) (-0.25-0j) (-0.25-0j) (-0.25-0j) (-0.25-0j) (0.75+0j) \n"
     ]
    },
    {
     "data": {
      "text/html": [
       "<pre style=\"word-wrap: normal;white-space: pre;background: #fff0;line-height: 1.1;font-family: &quot;Courier New&quot;,Courier,monospace\">      ┌────────────────────┐\n",
       "qa_0: ┤0                   ├\n",
       "      │                    │\n",
       "qa_1: ┤1                   ├\n",
       "      │  Diffuser(3,1 aux) │\n",
       "qa_2: ┤2                   ├\n",
       "      │                    │\n",
       "qaux: ┤3                   ├\n",
       "      └────────────────────┘</pre>"
      ],
      "text/plain": [
       "      ┌────────────────────┐\n",
       "qa_0: ┤0                   ├\n",
       "      │                    │\n",
       "qa_1: ┤1                   ├\n",
       "      │  Diffuser(3,1 aux) │\n",
       "qa_2: ┤2                   ├\n",
       "      │                    │\n",
       "qaux: ┤3                   ├\n",
       "      └────────────────────┘"
      ]
     },
     "execution_count": 49,
     "metadata": {},
     "output_type": "execute_result"
    }
   ],
   "source": [
    "n=3\n",
    "qa=QuantumRegister(n,\"qa\")\n",
    "qaux=QuantumRegister(n-2,\"qaux\")\n",
    "qcUn=QuantumCircuit(qa,qaux,name=\"Diffuser(\"+str(n)+\"-\"+str(n-2)+\")\")\n",
    "\n",
    "subQC=difussorUn(n)\n",
    "qcUn.append(subQC,list(qa)+list(qaux))\n",
    "\n",
    "backend = Aer.get_backend('unitary_simulator')\n",
    "job = execute(qcUn, backend)\n",
    "result = job.result()\n",
    "mU=np.array( result.get_unitary(qcUn, decimals=3) )\n",
    "for j,f in enumerate(mU):\n",
    "  if j<2**n:\n",
    "    for i,x in enumerate(f):\n",
    "      if i <2**n:\n",
    "        print(\"{:9}\".format(x),end=' ')\n",
    "    print()\n",
    "qcUn.draw()"
   ]
  },
  {
   "cell_type": "code",
   "execution_count": null,
   "id": "UdlvaYErygnT",
   "metadata": {
    "colab": {
     "base_uri": "https://localhost:8080/",
     "height": 235
    },
    "id": "UdlvaYErygnT",
    "outputId": "ca9ea747-c189-42d1-ce56-78f9c88a59dc"
   },
   "outputs": [
    {
     "ename": "TypeError",
     "evalue": "ignored",
     "output_type": "error",
     "traceback": [
      "\u001b[0;31m---------------------------------------------------------------------------\u001b[0m",
      "\u001b[0;31mTypeError\u001b[0m                                 Traceback (most recent call last)",
      "\u001b[0;32m<ipython-input-50-60d5c010004f>\u001b[0m in \u001b[0;36m<module>\u001b[0;34m()\u001b[0m\n\u001b[1;32m     19\u001b[0m \u001b[0mresult\u001b[0m \u001b[0;34m=\u001b[0m \u001b[0mjob\u001b[0m\u001b[0;34m.\u001b[0m\u001b[0mresult\u001b[0m\u001b[0;34m(\u001b[0m\u001b[0;34m)\u001b[0m\u001b[0;34m\u001b[0m\u001b[0;34m\u001b[0m\u001b[0m\n\u001b[1;32m     20\u001b[0m \u001b[0mmU\u001b[0m\u001b[0;34m=\u001b[0m\u001b[0mresult\u001b[0m\u001b[0;34m.\u001b[0m\u001b[0mget_unitary\u001b[0m\u001b[0;34m(\u001b[0m\u001b[0mqcUn\u001b[0m\u001b[0;34m,\u001b[0m \u001b[0mdecimals\u001b[0m\u001b[0;34m=\u001b[0m\u001b[0;36m3\u001b[0m\u001b[0;34m)\u001b[0m\u001b[0;34m\u001b[0m\u001b[0;34m\u001b[0m\u001b[0m\n\u001b[0;32m---> 21\u001b[0;31m \u001b[0;32mfor\u001b[0m \u001b[0mj\u001b[0m\u001b[0;34m,\u001b[0m\u001b[0mf\u001b[0m \u001b[0;32min\u001b[0m \u001b[0menumerate\u001b[0m\u001b[0;34m(\u001b[0m\u001b[0mmU\u001b[0m\u001b[0;34m)\u001b[0m\u001b[0;34m:\u001b[0m\u001b[0;34m\u001b[0m\u001b[0;34m\u001b[0m\u001b[0m\n\u001b[0m\u001b[1;32m     22\u001b[0m   \u001b[0;32mif\u001b[0m \u001b[0mj\u001b[0m\u001b[0;34m<\u001b[0m\u001b[0;36m2\u001b[0m\u001b[0;34m**\u001b[0m\u001b[0mn\u001b[0m\u001b[0;34m:\u001b[0m\u001b[0;34m\u001b[0m\u001b[0;34m\u001b[0m\u001b[0m\n\u001b[1;32m     23\u001b[0m     \u001b[0;32mfor\u001b[0m \u001b[0mi\u001b[0m\u001b[0;34m,\u001b[0m\u001b[0mx\u001b[0m \u001b[0;32min\u001b[0m \u001b[0menumerate\u001b[0m\u001b[0;34m(\u001b[0m\u001b[0mf\u001b[0m\u001b[0;34m)\u001b[0m\u001b[0;34m:\u001b[0m\u001b[0;34m\u001b[0m\u001b[0;34m\u001b[0m\u001b[0m\n",
      "\u001b[0;31mTypeError\u001b[0m: 'Operator' object is not iterable"
     ]
    }
   ],
   "source": [
    "n=3\n",
    "qa=QuantumRegister(n,\"qa\")\n",
    "qaux=QuantumRegister(n-2,\"qaux\")\n",
    "qcUn=QuantumCircuit(qa,qaux,name=\"Diffuser(\"+str(n)+\"-\"+str(n-2)+\")\")\n",
    "\n",
    "subC=nToffoliGateN1(n-1)\n",
    "for i in range(n):\n",
    "  qcUn.x(i)\n",
    "qcUn.h(n-1)\n",
    "#qcUn.cccx(0,1,2,3)\n",
    "qcUn.append(subC,list(qa[:n-1])+list(qa[n-1:n])+list(qaux))\n",
    "qcUn.h(n-1)\n",
    "qcUn.barrier()\n",
    "for i in range(n):\n",
    "  qcUn.x(i)\n",
    "\n",
    "backend = Aer.get_backend('unitary_simulator')\n",
    "job = execute(qcUn, backend)\n",
    "result = job.result()\n",
    "mU=result.get_unitary(qcUn, decimals=3)\n",
    "for j,f in enumerate(mU):\n",
    "  if j<2**n:\n",
    "    for i,x in enumerate(f):\n",
    "      if i <2**n:\n",
    "        print(\"{:7}\".format(x),end=' ')\n",
    "    print()\n",
    "qcUn.draw()"
   ]
  },
  {
   "cell_type": "markdown",
   "id": "T8DaJMrTQknJ",
   "metadata": {
    "id": "T8DaJMrTQknJ"
   },
   "source": [
    "## Ejemplo"
   ]
  },
  {
   "cell_type": "code",
   "execution_count": null,
   "id": "mp5gPdWFN4_t",
   "metadata": {
    "id": "mp5gPdWFN4_t"
   },
   "outputs": [],
   "source": [
    "n=6\n",
    "qcD=difussorUn(n)\n",
    "qrA=QuantumRegister(n,\"qr_a\")\n",
    "qrAux=QuantumRegister(n-2,\"qrAux_a\")\n",
    "\n",
    "circ=QuantumCircuit(qrA,qrAux)\n",
    "circ.append(qcD,list(qrA)+list(qrAux))\n",
    "\n",
    "circ.draw()"
   ]
  },
  {
   "cell_type": "code",
   "execution_count": null,
   "id": "LABV_16RSH7u",
   "metadata": {
    "id": "LABV_16RSH7u"
   },
   "outputs": [],
   "source": []
  },
  {
   "cell_type": "markdown",
   "id": "lWWyaS59JEj6",
   "metadata": {
    "id": "lWWyaS59JEj6"
   },
   "source": [
    "# Composición de `eq` con `Diffusor`"
   ]
  },
  {
   "cell_type": "code",
   "execution_count": null,
   "id": "kiXvSNCHJJDc",
   "metadata": {
    "id": "kiXvSNCHJJDc"
   },
   "outputs": [],
   "source": [
    "p,n=2,3\n",
    "lenLambda=sum([n+i//2 for i in range(p)])\n",
    "nvueltas=math.sqrt(2**sum([n+i//2 for i in range(p)]))\n",
    "print(\"Entradas constantes de a[] y b con {} y {} qbits, resp.\".format(lenLambda,2*n+p-1))\n",
    "print(\"qbits en entrada de lambda_I\",lenLambda)\n",
    "print(\"Nº de vueltas (sqrt(N)):\",nvueltas)"
   ]
  },
  {
   "cell_type": "code",
   "execution_count": null,
   "id": "S4xHc5BxKTDc",
   "metadata": {
    "id": "S4xHc5BxKTDc"
   },
   "outputs": [],
   "source": [
    "p,n=2,3\n",
    "lenLambda=sum([n+i//2 for i in range(p)])\n",
    "b=QuantumRegister(2*n+p-1,\"b\")\n",
    "a,lambdaI,s0,qc0,qr0,qaux0=initQbits(p,n,'q0')\n",
    "_,_,s1,qc1,qr1,qaux1=initQbits(p,n,'q1')\n",
    "#_,_,s2,qc2,qr2,qaux2=initQbits(p,n,'q2')\n",
    "#_,_,s3,qc3,qr3,qaux3=initQbits(p,n,'q3')\n",
    "qrAuxDiff0=QuantumRegister(lenLambda-2,\"qrAux0\")\n",
    "qrAuxDiff1=QuantumRegister(lenLambda-2,\"qrAux1\")\n",
    "#qrAuxDiff2=QuantumRegister(lenLambda-2,\"qrAux2\")\n",
    "#qrAuxDiff3=QuantumRegister(lenLambda-2,\"qrAux3\")\n",
    "\n",
    "subCircEq0=equalityOfLCwithB(p,n)\n",
    "qcD0=difussorUn(lenLambda)\n",
    "subCircEq1=equalityOfLCwithB(p,n)\n",
    "qcD1=difussorUn(lenLambda)\n",
    "#subCircEq2=equalityOfLCwithB(p,n)\n",
    "#qcD2=difussorUn(lenLambda)\n",
    "'''subCircEq3=equalityOfLCwithB(p,n)\n",
    "qcD3=difussorUn(lenLambda)'''\n",
    "\n",
    "salida=ClassicalRegister(lenLambda,\"out\")\n",
    "\n",
    "circ=QuantumCircuit(b,*a,*lambdaI,*s0,*s1,qc0,qc1,\\\n",
    "                    qr0,qr1,qaux0,qaux1,salida,\\\n",
    "                    qrAuxDiff0,qrAuxDiff1)\n",
    "'''\n",
    "circ=QuantumCircuit(b,*a,*lambdaI,*s0,*s1,*s2,qc0,qc1,qc2,\\\n",
    "                    qr0,qr1,qr2,qaux0,qaux1,qaux2,salida,\\\n",
    "                    qrAuxDiff0,qrAuxDiff1,qrAuxDiff2)'''\n",
    "#circ=QuantumCircuit(b,*a,*lambdaI,*s0,*s1,*s2,*s3,qc0,qc1,qc2,qc3,\\\n",
    "#                    qr0,qr1,qr2,qr3,qaux0,qaux1,qaux2,qaux3,salida,\\\n",
    "#                    qrAuxDiff0,qrAuxDiff1,qrAuxDiff2,qrAuxDiff3)\n",
    "# si no me equivoco, con esto ya tenemos un Grover Oracle\n",
    "circ.x(qr0)\n",
    "circ.h(qr0)\n",
    "circ.x(qr1)\n",
    "circ.h(qr1)\n",
    "'''\n",
    "circ.x(qr2)\n",
    "circ.h(qr2)'''\n",
    "'''\n",
    "circ.x(qr3)\n",
    "circ.h(qr3)'''\n",
    "valorQR(circ,a[0],3)\n",
    "valorQR(circ,a[1],4)\n",
    "circ.h(lambdaI[0])\n",
    "circ.h(lambdaI[1])\n",
    "# si ponemos b igual a la combinación a_0*lambda_0+a_1*lambda_1+a_2*lambda_2,\n",
    "# tiene que dar 1. Para otro valor de b tiene que dar 0\n",
    "valorQR(circ,b,3*2+4*2)\n",
    "\n",
    "circ.append(subCircEq0,list(b)+\\\n",
    "          list(chain.from_iterable(a))+\\\n",
    "          list(chain.from_iterable(lambdaI))+\\\n",
    "          list(chain.from_iterable(s0))+\\\n",
    "          list(qc0)+list(qr0)+list(qaux0) )\n",
    "circ.append(qcD0,list(chain.from_iterable(lambdaI))+list(qrAuxDiff0))\n",
    "circ.append(subCircEq1,list(b)+\\\n",
    "          list(chain.from_iterable(a))+\\\n",
    "          list(chain.from_iterable(lambdaI))+\\\n",
    "          list(chain.from_iterable(s1))+\\\n",
    "          list(qc1)+list(qr1)+list(qaux1) )\n",
    "circ.append(qcD1,list(chain.from_iterable(lambdaI))+list(qrAuxDiff1))\n",
    "'''\n",
    "circ.append(subCircEq2,list(b)+\\\n",
    "          list(chain.from_iterable(a))+\\\n",
    "          list(chain.from_iterable(lambdaI))+\\\n",
    "          list(chain.from_iterable(s2))+\\\n",
    "          list(qc2)+list(qr2)+list(qaux2) )\n",
    "circ.append(qcD2,list(chain.from_iterable(lambdaI))+list(qrAuxDiff2))'''\n",
    "'''\n",
    "circ.append(subCircEq3,list(b)+\\\n",
    "          list(chain.from_iterable(a))+\\\n",
    "          list(chain.from_iterable(lambdaI))+\\\n",
    "          list(chain.from_iterable(s3))+\\\n",
    "          list(qc3)+list(qr3)+list(qaux3) )\n",
    "circ.append(qcD3,list(chain.from_iterable(lambdaI))+list(qrAuxDiff3))'''\n",
    "\n",
    "\n",
    "\n",
    "circ.measure(list(chain.from_iterable(lambdaI)),salida)\n",
    "\n",
    "\n",
    "dev='ibmq_qasm_simulator'\n",
    "#dev='simulator_extended_stabilizer'\n",
    "#dev='simulator_mps'\n",
    "real_device = prov.get_backend(dev)\n",
    "#simulator = Aer.get_backend('aer_simulator')\n",
    "job1 = execute(circ, real_device, shots=1024)\n",
    "counts=job1.result().get_counts()\n",
    "print(\"Ejecución en ibmq_qasm_simulator:\",counts)\n",
    "#circ.draw()"
   ]
  },
  {
   "cell_type": "code",
   "execution_count": null,
   "id": "gnqScEICGZ5T",
   "metadata": {
    "id": "gnqScEICGZ5T"
   },
   "outputs": [],
   "source": [
    "counts['00100010']"
   ]
  },
  {
   "cell_type": "markdown",
   "id": "L-H2PhFUeqXp",
   "metadata": {
    "id": "L-H2PhFUeqXp"
   },
   "source": [
    "# Combinación lineal (LC), Eq, etc."
   ]
  },
  {
   "cell_type": "code",
   "execution_count": null,
   "id": "-fNeQgOieog_",
   "metadata": {
    "colab": {
     "base_uri": "https://localhost:8080/",
     "height": 235
    },
    "id": "-fNeQgOieog_",
    "outputId": "10eba12b-2c12-4c47-8267-0bb293f4b8b3"
   },
   "outputs": [
    {
     "ename": "NameError",
     "evalue": "ignored",
     "output_type": "error",
     "traceback": [
      "\u001b[0;31m---------------------------------------------------------------------------\u001b[0m",
      "\u001b[0;31mNameError\u001b[0m                                 Traceback (most recent call last)",
      "\u001b[0;32m<ipython-input-1-0e3c3f0e35b0>\u001b[0m in \u001b[0;36m<module>\u001b[0;34m()\u001b[0m\n\u001b[1;32m      1\u001b[0m \u001b[0mp\u001b[0m\u001b[0;34m,\u001b[0m\u001b[0mn\u001b[0m\u001b[0;34m=\u001b[0m\u001b[0;36m2\u001b[0m\u001b[0;34m,\u001b[0m\u001b[0;36m4\u001b[0m\u001b[0;34m\u001b[0m\u001b[0;34m\u001b[0m\u001b[0m\n\u001b[0;32m----> 2\u001b[0;31m \u001b[0mqb\u001b[0m\u001b[0;34m=\u001b[0m\u001b[0mQuantumRegister\u001b[0m\u001b[0;34m(\u001b[0m\u001b[0;36m2\u001b[0m\u001b[0;34m*\u001b[0m\u001b[0mn\u001b[0m\u001b[0;34m+\u001b[0m\u001b[0mp\u001b[0m\u001b[0;34m-\u001b[0m\u001b[0;36m1\u001b[0m\u001b[0;34m,\u001b[0m\u001b[0;34m\"qb\"\u001b[0m\u001b[0;34m)\u001b[0m\u001b[0;34m\u001b[0m\u001b[0;34m\u001b[0m\u001b[0m\n\u001b[0m\u001b[1;32m      3\u001b[0m \u001b[0mlqa\u001b[0m\u001b[0;34m=\u001b[0m\u001b[0;34m[\u001b[0m\u001b[0mQuantumRegister\u001b[0m\u001b[0;34m(\u001b[0m\u001b[0mn\u001b[0m\u001b[0;34m,\u001b[0m\u001b[0;34m\"lqa[\"\u001b[0m\u001b[0;34m+\u001b[0m\u001b[0mstr\u001b[0m\u001b[0;34m(\u001b[0m\u001b[0mi\u001b[0m\u001b[0;34m)\u001b[0m\u001b[0;34m+\u001b[0m\u001b[0;34m\"]\"\u001b[0m\u001b[0;34m)\u001b[0m \u001b[0;32mfor\u001b[0m \u001b[0mi\u001b[0m \u001b[0;32min\u001b[0m \u001b[0mrange\u001b[0m\u001b[0;34m(\u001b[0m\u001b[0mp\u001b[0m\u001b[0;34m)\u001b[0m\u001b[0;34m]\u001b[0m\u001b[0;34m\u001b[0m\u001b[0;34m\u001b[0m\u001b[0m\n\u001b[1;32m      4\u001b[0m \u001b[0mlqlambda\u001b[0m\u001b[0;34m=\u001b[0m\u001b[0;34m[\u001b[0m\u001b[0mQuantumRegister\u001b[0m\u001b[0;34m(\u001b[0m\u001b[0mn\u001b[0m\u001b[0;34m,\u001b[0m\u001b[0;34m\"lqlambda[\"\u001b[0m\u001b[0;34m+\u001b[0m\u001b[0mstr\u001b[0m\u001b[0;34m(\u001b[0m\u001b[0mi\u001b[0m\u001b[0;34m)\u001b[0m\u001b[0;34m+\u001b[0m\u001b[0;34m\"]\"\u001b[0m\u001b[0;34m)\u001b[0m \u001b[0;32mfor\u001b[0m \u001b[0mi\u001b[0m \u001b[0;32min\u001b[0m \u001b[0mrange\u001b[0m\u001b[0;34m(\u001b[0m\u001b[0mp\u001b[0m\u001b[0;34m)\u001b[0m\u001b[0;34m]\u001b[0m\u001b[0;34m\u001b[0m\u001b[0;34m\u001b[0m\u001b[0m\n\u001b[1;32m      5\u001b[0m \u001b[0mlqalambda\u001b[0m\u001b[0;34m=\u001b[0m\u001b[0;34m[\u001b[0m\u001b[0mQuantumRegister\u001b[0m\u001b[0;34m(\u001b[0m\u001b[0;36m2\u001b[0m\u001b[0;34m*\u001b[0m\u001b[0mn\u001b[0m\u001b[0;34m+\u001b[0m\u001b[0mi\u001b[0m\u001b[0;34m,\u001b[0m\u001b[0;34m\"lqalambda[\"\u001b[0m\u001b[0;34m+\u001b[0m\u001b[0mstr\u001b[0m\u001b[0;34m(\u001b[0m\u001b[0mi\u001b[0m\u001b[0;34m)\u001b[0m\u001b[0;34m+\u001b[0m\u001b[0;34m\"]\"\u001b[0m\u001b[0;34m)\u001b[0m \u001b[0;32mfor\u001b[0m \u001b[0mi\u001b[0m \u001b[0;32min\u001b[0m \u001b[0mrange\u001b[0m\u001b[0;34m(\u001b[0m\u001b[0mp\u001b[0m\u001b[0;34m)\u001b[0m\u001b[0;34m]\u001b[0m\u001b[0;34m\u001b[0m\u001b[0;34m\u001b[0m\u001b[0m\n",
      "\u001b[0;31mNameError\u001b[0m: name 'QuantumRegister' is not defined"
     ]
    }
   ],
   "source": [
    "p,n=2,4\n",
    "qb=QuantumRegister(2*n+p-1,\"qb\")\n",
    "lqa=[QuantumRegister(n,\"lqa[\"+str(i)+\"]\") for i in range(p)]\n",
    "lqlambda=[QuantumRegister(n,\"lqlambda[\"+str(i)+\"]\") for i in range(p)]\n",
    "lqalambda=[QuantumRegister(2*n+i,\"lqalambda[\"+str(i)+\"]\") for i in range(p)]\n",
    "#qauxEq=QuantumRegister(2*(2*n+p-1)-1,\"qauxEq\")\n",
    "qauxEq=QuantumRegister(2*n+p-1-1,\"qauxEq\")\n",
    "qr=QuantumRegister(1,\"qr\")\n",
    "\n",
    "#qauxDiff=QuantumRegister(n*p-2,\"qauxDiff\")\n",
    "\n",
    "raux=ClassicalRegister(1,\"resultado\")\n",
    "#raux=ClassicalRegister(2*n+p-1)\n",
    "\n",
    "qCirc=QuantumCircuit(*lqa,*lqlambda,*lqalambda,qb,qr,qauxEq,raux,name=\"b=lc(a,lambda)\")\n",
    "\n",
    "sgS=[3,7]\n",
    "for i,x in enumerate(sgS):\n",
    "  valorQR(qCirc,lqa[i],x)\n",
    "coefL=[3,4]\n",
    "for i,x in enumerate(coefL):\n",
    "  valorQR(qCirc,lqlambda[i],x)\n",
    "valorQR(qCirc,qb,sum([x*y for x,y in zip(sgS,coefL)])+1)\n",
    "\n",
    "for i in range(p):\n",
    "  qcauxr=QuantumRegister(4*n)\n",
    "  qcaux=QuantumCircuit(qcauxr,name='mult{0}'.format(i))\n",
    "  QArithmetic.mult(qcaux, qcauxr[0:n],qcauxr[n:2*n],qcauxr[2*n:4*n], n)\n",
    "  laux=list(lqa[i])+list(lqlambda[i])+list(lqalambda[i][:2*n])\n",
    "  qCirc.append(qcaux.to_instruction(),laux)\n",
    "\n",
    "for i in range(p-1):\n",
    "  qcauxr=QuantumRegister(2*n+i+2*n+i+1)\n",
    "  qcaux=QuantumCircuit(qcauxr,name='sum {0} {1}'.format(i,i+1))\n",
    "  QArithmetic.add(qcaux,qcauxr[0:2*n+i],qcauxr[2*n+i:],2*n+i)\n",
    "  laux=list(lqalambda[i])+list(lqalambda[i+1])\n",
    "  qCirc.append(qcaux,laux)\n",
    "\n",
    "#qc1=eqOfNqbits(2*n+p-1)\n",
    "#qCirc.append(qc1,list(lqalambda[-1])+list(qb)+list(qr)+list(qauxEq))\n",
    "\n",
    "qcauxr=QuantumRegister((2*n+p-1)*2)\n",
    "qcaux=QuantumCircuit(qcauxr,name='resta')\n",
    "QArithmetic.sub(qcaux,qcauxr[0:2*n+p-1],qcauxr[2*n+p-1:],2*n+p-1)\n",
    "laux=list(qb)+list(lqalambda[-1])\n",
    "qCirc.append(qcaux,laux)\n",
    "#qCirc.measure(lqalambda[-1],raux)\n",
    "\n",
    "qCirc.x(lqalambda[-1])\n",
    "qcauxNT=nToffoliGateN1(2*n+p-1)\n",
    "qCirc.append(qcauxNT,list(lqalambda[-1])+[qr]+list(qauxEq))\n",
    "\n",
    "qCirc.measure(qr,raux)\n",
    "print(qCirc.num_qubits)"
   ]
  },
  {
   "cell_type": "code",
   "execution_count": null,
   "id": "TwTbMJKTfncE",
   "metadata": {
    "id": "TwTbMJKTfncE"
   },
   "outputs": [],
   "source": [
    "qCirc.draw('mpl')"
   ]
  },
  {
   "cell_type": "code",
   "execution_count": null,
   "id": "payNtto7fqs2",
   "metadata": {
    "colab": {
     "base_uri": "https://localhost:8080/"
    },
    "id": "payNtto7fqs2",
    "outputId": "dc4c56bf-fb32-4f9a-fed9-35d4e8906e22"
   },
   "outputs": [
    {
     "name": "stdout",
     "output_type": "stream",
     "text": [
      "Ejecución en ibmq_qasm_simulator: {'0': 1000}\n"
     ]
    }
   ],
   "source": [
    "dev='ibmq_qasm_simulator'\n",
    "dev='simulator_mps'\n",
    "real_device = prov.get_backend(dev)\n",
    "#simulator = Aer.get_backend('aer_simulator')\n",
    "job1 = execute(qCirc, real_device, shots=1000)\n",
    "counts=job1.result().get_counts()\n",
    "print(\"Ejecución en ibmq_qasm_simulator:\",counts)"
   ]
  },
  {
   "cell_type": "code",
   "execution_count": 16,
   "id": "Qp3nT5QM3brn",
   "metadata": {
    "colab": {
     "base_uri": "https://localhost:8080/"
    },
    "id": "Qp3nT5QM3brn",
    "outputId": "7bca1cc9-0943-4f45-fa4f-89b95b0d9678"
   },
   "outputs": [
    {
     "ename": "NameError",
     "evalue": "name 'difussorUn' is not defined",
     "output_type": "error",
     "traceback": [
      "\u001b[0;31m---------------------------------------------------------------------------\u001b[0m",
      "\u001b[0;31mNameError\u001b[0m                                 Traceback (most recent call last)",
      "Input \u001b[0;32mIn [16]\u001b[0m, in \u001b[0;36m<cell line: 61>\u001b[0;34m()\u001b[0m\n\u001b[1;32m     58\u001b[0m qcauxNT\u001b[38;5;241m=\u001b[39mnToffoliGate(\u001b[38;5;241m2\u001b[39m\u001b[38;5;241m*\u001b[39mn\u001b[38;5;241m+\u001b[39mp\u001b[38;5;241m-\u001b[39m\u001b[38;5;241m1\u001b[39m)\n\u001b[1;32m     59\u001b[0m qCirc\u001b[38;5;241m.\u001b[39mappend(qcauxNT,\u001b[38;5;28mlist\u001b[39m(lqalambda[\u001b[38;5;241m-\u001b[39m\u001b[38;5;241m1\u001b[39m])\u001b[38;5;241m+\u001b[39m\u001b[38;5;28mlist\u001b[39m(qauxEq)\u001b[38;5;241m+\u001b[39m[qr])\n\u001b[0;32m---> 61\u001b[0m subCD\u001b[38;5;241m=\u001b[39m\u001b[43mdifussorUn\u001b[49m(p\u001b[38;5;241m*\u001b[39mn)\n\u001b[1;32m     63\u001b[0m qCirc\u001b[38;5;241m.\u001b[39mbarrier()\n\u001b[1;32m     65\u001b[0m qCirc\u001b[38;5;241m.\u001b[39mappend(subCD, \u001b[38;5;28mlist\u001b[39m(chain\u001b[38;5;241m.\u001b[39mfrom_iterable([\u001b[38;5;28mlist\u001b[39m(x) \u001b[38;5;28;01mfor\u001b[39;00m x \u001b[38;5;129;01min\u001b[39;00m lqlambda]))\u001b[38;5;241m+\u001b[39m\u001b[38;5;28mlist\u001b[39m(qauxDiff))\n",
      "\u001b[0;31mNameError\u001b[0m: name 'difussorUn' is not defined"
     ]
    }
   ],
   "source": [
    "p,n=2,4\n",
    "qb=QuantumRegister(2*n+p-1,\"qb\")\n",
    "lqa=[QuantumRegister(n,\"lqa[\"+str(i)+\"]\") for i in range(p)]\n",
    "lqlambda=[QuantumRegister(n,\"lqlambda[\"+str(i)+\"]\") for i in range(p)]\n",
    "lqalambda=[QuantumRegister(2*n+i,\"lqalambda[\"+str(i)+\"]\") for i in range(p)]\n",
    "#qauxEq=QuantumRegister(2*(2*n+p-1)-1,\"qauxEq\")\n",
    "qauxEq=QuantumRegister(2*n+p-1-1,\"qauxEq\")\n",
    "qr=QuantumRegister(1,\"qr\")\n",
    "\n",
    "qauxDiff=QuantumRegister(n*p-2,\"qauxDiff\")\n",
    "\n",
    "#raux=ClassicalRegister(1,\"resultado\")\n",
    "#raux=ClassicalRegister(2*n+p-1)\n",
    "lr=[ClassicalRegister(n,\"r[\"+str(i)+\"]\") for i in range(p)]\n",
    "\n",
    "qCirc=QuantumCircuit(*lqa,*lqlambda,*lqalambda,qb,qr,qauxEq,*lr,qauxDiff,name=\"b=lc(a,lambda)\")\n",
    "\n",
    "sgS=[3,7]\n",
    "for i,x in enumerate(sgS):\n",
    "  valorQR(qCirc,lqa[i],x)\n",
    "\n",
    "#coefL=[3,4]\n",
    "#for i,x in enumerate(coefL):\n",
    "#  valorQR(qCirc,lqlambda[i],x)\n",
    "for q in lqlambda:\n",
    "  qCirc.h(q)\n",
    "qCirc.x(qr)\n",
    "qCirc.h(qr)\n",
    "\n",
    "valorQR(qCirc,qb,3*3+4*7)\n",
    "\n",
    "###\n",
    "for i in range(p):\n",
    "  qcauxr=QuantumRegister(4*n)\n",
    "  qcaux=QuantumCircuit(qcauxr,name='mult{0}'.format(i))\n",
    "  QArithmetic.mult(qcaux, qcauxr[0:n],qcauxr[n:2*n],qcauxr[2*n:4*n], n)\n",
    "  laux=list(lqa[i])+list(lqlambda[i])+list(lqalambda[i][:2*n])\n",
    "  qCirc.append(qcaux.to_instruction(),laux)\n",
    "\n",
    "for i in range(p-1):\n",
    "  qcauxr=QuantumRegister(2*n+i+2*n+i+1)\n",
    "  qcaux=QuantumCircuit(qcauxr,name='sum {0} {1}'.format(i,i+1))\n",
    "  QArithmetic.add(qcaux,qcauxr[0:2*n+i],qcauxr[2*n+i:],2*n+i)\n",
    "  laux=list(lqalambda[i])+list(lqalambda[i+1])\n",
    "  qCirc.append(qcaux,laux)\n",
    "\n",
    "#qc1=eqOfNqbits(2*n+p-1)\n",
    "#qCirc.append(qc1,list(lqalambda[-1])+list(qb)+list(qr)+list(qauxEq))\n",
    "\n",
    "qcauxr=QuantumRegister((2*n+p-1)*2)\n",
    "qcaux=QuantumCircuit(qcauxr,name='resta')\n",
    "QArithmetic.sub(qcaux,qcauxr[0:2*n+p-1],qcauxr[2*n+p-1:],2*n+p-1)\n",
    "laux=list(qb)+list(lqalambda[-1])\n",
    "qCirc.append(qcaux,laux)\n",
    "#qCirc.measure(lqalambda[-1],raux)\n",
    "\n",
    "qCirc.x(lqalambda[-1])\n",
    "qcauxNT=nToffoliGate(2*n+p-1)\n",
    "qCirc.append(qcauxNT,list(lqalambda[-1])+list(qauxEq)+[qr])\n",
    "\n",
    "subCD=difussorUn(p*n)\n",
    "\n",
    "qCirc.barrier()\n",
    "\n",
    "qCirc.append(subCD, list(chain.from_iterable([list(x) for x in lqlambda]))+list(qauxDiff))\n",
    "\n",
    "for i in range(p):\n",
    "  qCirc.measure(lqlambda[i],lr[i])\n",
    "print(qCirc.num_qubits)"
   ]
  },
  {
   "cell_type": "code",
   "execution_count": 17,
   "id": "Fo57RBjCShKd",
   "metadata": {
    "id": "Fo57RBjCShKd"
   },
   "outputs": [
    {
     "data": {
      "image/png": "[encoded data removed]",
      "text/plain": [
       "<Figure size 1298.89x4966.5 with 1 Axes>"
      ]
     },
     "execution_count": 17,
     "metadata": {},
     "output_type": "execute_result"
    }
   ],
   "source": [
    "qCirc.draw('mpl')"
   ]
  },
  {
   "cell_type": "code",
   "execution_count": null,
   "id": "qI-yxtAqSj-h",
   "metadata": {
    "colab": {
     "base_uri": "https://localhost:8080/"
    },
    "id": "qI-yxtAqSj-h",
    "outputId": "213ff4fd-f15c-46a9-8a35-96440381e0dd"
   },
   "outputs": [
    {
     "name": "stdout",
     "output_type": "stream",
     "text": [
      "Ejecución en ibmq_qasm_simulator: {'0000 0000': 2, '0000 0001': 9, '0001 0000': 2, '0001 0001': 6, '0001 0010': 3, '0001 0011': 7, '0001 0100': 3, '0001 0101': 6, '0001 0110': 6, '0001 0111': 6, '0001 1000': 5, '0001 1001': 2, '0001 1010': 4, '0001 1011': 3, '0001 1100': 2, '0001 1101': 4, '0001 1110': 4, '0001 1111': 5, '0000 0010': 4, '0010 0000': 3, '0010 0001': 1, '0010 0010': 2, '0010 0011': 5, '0010 0100': 4, '0010 0101': 6, '0010 0110': 7, '0010 0111': 4, '0010 1000': 5, '0010 1001': 5, '0010 1010': 4, '0010 1011': 5, '0010 1100': 5, '0010 1101': 5, '0010 1110': 4, '0010 1111': 3, '0000 0011': 6, '0011 0000': 5, '0011 0001': 3, '0011 0010': 3, '0011 0011': 2, '0011 0100': 4, '0011 0101': 2, '0011 0110': 3, '0011 0111': 3, '0011 1000': 3, '0011 1001': 6, '0011 1010': 3, '0011 1011': 3, '0011 1100': 4, '0011 1101': 5, '0011 1110': 2, '0011 1111': 5, '0000 0100': 2, '0100 0000': 2, '0100 0001': 4, '0100 0010': 5, '0100 0011': 8, '0100 0100': 3, '0100 0101': 8, '0100 0110': 2, '0100 1000': 6, '0100 1001': 2, '0100 1010': 4, '0100 1011': 4, '0100 1100': 3, '0100 1101': 2, '0100 1110': 5, '0100 1111': 3, '0000 0101': 4, '0101 0000': 3, '0101 0001': 3, '0101 0010': 2, '0101 0011': 5, '0101 0100': 5, '0101 0110': 4, '0101 0111': 3, '0101 1000': 5, '0101 1001': 4, '0101 1010': 4, '0101 1011': 4, '0101 1100': 7, '0101 1101': 3, '0101 1110': 1, '0101 1111': 3, '0000 0110': 1, '0110 0000': 1, '0110 0001': 5, '0110 0010': 5, '0110 0011': 1, '0110 0100': 9, '0110 0101': 2, '0110 0110': 6, '0110 0111': 2, '0110 1000': 2, '0110 1001': 1, '0110 1010': 3, '0110 1011': 7, '0110 1100': 4, '0110 1101': 3, '0110 1110': 2, '0110 1111': 6, '0000 0111': 3, '0111 0000': 3, '0111 0001': 5, '0111 0010': 4, '0111 0011': 3, '0111 0100': 2, '0111 0101': 2, '0111 0110': 6, '0111 0111': 4, '0111 1000': 3, '0111 1001': 1, '0111 1010': 4, '0111 1011': 4, '0111 1100': 3, '0111 1101': 5, '0111 1110': 6, '0111 1111': 2, '0000 1000': 5, '1000 0000': 4, '1000 0001': 5, '1000 0010': 5, '1000 0011': 6, '1000 0100': 2, '1000 0101': 2, '1000 0110': 2, '1000 0111': 6, '1000 1000': 4, '1000 1001': 4, '1000 1011': 1, '1000 1100': 7, '1000 1101': 4, '1000 1110': 7, '1000 1111': 6, '0000 1001': 1, '1001 0000': 4, '1001 0010': 6, '1001 0011': 3, '1001 0100': 2, '1001 0101': 1, '1001 0110': 1, '1001 1000': 3, '1001 1010': 5, '1001 1011': 3, '1001 1100': 7, '1001 1101': 3, '1001 1110': 1, '1001 1111': 5, '0000 1010': 4, '1010 0001': 4, '1010 0010': 5, '1010 0011': 3, '1010 0100': 2, '1010 0101': 5, '1010 0110': 2, '1010 0111': 1, '1010 1000': 3, '1010 1001': 4, '1010 1010': 5, '1010 1011': 5, '1010 1100': 6, '1010 1101': 3, '1010 1110': 4, '1010 1111': 7, '0000 1011': 5, '1011 0000': 2, '1011 0001': 4, '1011 0010': 5, '1011 0011': 6, '1011 0100': 8, '1011 0101': 7, '1011 0110': 5, '1011 0111': 6, '1011 1000': 4, '1011 1001': 4, '1011 1010': 7, '1011 1011': 5, '1011 1100': 2, '1011 1101': 4, '1011 1110': 7, '1011 1111': 7, '0000 1100': 3, '1100 0000': 4, '1100 0001': 2, '1100 0010': 2, '1100 0011': 5, '1100 0100': 2, '1100 0101': 3, '1100 0110': 1, '1100 0111': 1, '1100 1000': 3, '1100 1001': 7, '1100 1010': 3, '1100 1011': 2, '1100 1100': 5, '1100 1101': 5, '1100 1110': 8, '1100 1111': 3, '0000 1101': 5, '1101 0000': 5, '1101 0001': 4, '1101 0010': 5, '1101 0011': 6, '1101 0100': 7, '1101 0101': 2, '1101 0110': 7, '1101 0111': 4, '1101 1000': 7, '1101 1001': 2, '1101 1010': 5, '1101 1011': 3, '1101 1100': 7, '1101 1101': 4, '1101 1110': 3, '1101 1111': 4, '0000 1110': 3, '1110 0000': 3, '1110 0001': 5, '1110 0010': 5, '1110 0011': 5, '1110 0100': 3, '1110 0101': 5, '1110 0110': 4, '1110 0111': 4, '1110 1000': 3, '1110 1001': 2, '1110 1010': 3, '1110 1011': 1, '1110 1100': 1, '1110 1101': 3, '1110 1110': 3, '1110 1111': 5, '0000 1111': 5, '1111 0000': 3, '1111 0001': 4, '1111 0010': 4, '1111 0011': 6, '1111 0100': 7, '1111 0101': 5, '1111 0110': 5, '1111 0111': 7, '1111 1000': 5, '1111 1001': 7, '1111 1010': 2, '1111 1011': 4, '1111 1100': 3, '1111 1101': 6, '1111 1110': 2, '1111 1111': 6}\n"
     ]
    }
   ],
   "source": [
    "dev='ibmq_qasm_simulator'\n",
    "dev='simulator_mps'\n",
    "real_device = prov.get_backend(dev)\n",
    "#simulator = Aer.get_backend('aer_simulator')\n",
    "job1 = execute(qCirc, real_device, shots=1000)\n",
    "counts=job1.result().get_counts()\n",
    "print(\"Ejecución en ibmq_qasm_simulator:\",counts)"
   ]
  },
  {
   "cell_type": "code",
   "execution_count": null,
   "id": "O3T1jtlYyo7l",
   "metadata": {
    "id": "O3T1jtlYyo7l"
   },
   "outputs": [],
   "source": [
    "for x in counts:\n",
    "  print(tuple( [int(i,2) for i in x.split()] ),counts[x])"
   ]
  },
  {
   "cell_type": "markdown",
   "id": "0Qgma35x9UgV",
   "metadata": {
    "id": "0Qgma35x9UgV"
   },
   "source": [
    "## Definición de vueltaGrLC(p,n)\n",
    "- qb: tamaño 2*n+p-1, fijo\n",
    "- lqa: lista de p, tamaño n, fijo\n",
    "- lqlambda: lista de p, tamaño n, se inicializa con \n",
    "```\n",
    "    for q in lqlambda:\n",
    "      qCirc.h(q)\n",
    "```\n",
    "- lqalambda: lista de p, tamaño 2*n+i, auxiliar\n",
    "- qauxEq: tamaño 2*n+p-1+1, auxiliar\n",
    "- qr: tamaño 1\n",
    "- qauxDiff: tamaño n*p-2, auxiliar"
   ]
  },
  {
   "cell_type": "code",
   "execution_count": null,
   "id": "RW8EZw8szIAj",
   "metadata": {
    "id": "RW8EZw8szIAj"
   },
   "outputs": [],
   "source": [
    "def vueltaGrLC(p,n):\n",
    "  #p,n=2,4\n",
    "  qb=QuantumRegister(2*n+p-1,\"qb\")\n",
    "  lqa=[QuantumRegister(n,\"lqa[\"+str(i)+\"]\") for i in range(p)]\n",
    "  lqlambda=[QuantumRegister(n,\"lqlambda[\"+str(i)+\"]\") for i in range(p)]\n",
    "  lqalambda=[QuantumRegister(2*n+i,\"lqalambda[\"+str(i)+\"]\") for i in range(p)]\n",
    "  qauxEq=QuantumRegister(2*n+p-1-1,\"qauxEq\")\n",
    "  qr=QuantumRegister(1,\"qr\")\n",
    "  qauxDiff=QuantumRegister(n*p-2,\"qauxDiff\")\n",
    "\n",
    "  qCirc=QuantumCircuit(*lqa,*lqlambda,*lqalambda,qb,qr,qauxEq,qauxDiff,name=\"b=lc(a,lambda)\")\n",
    "\n",
    "  qCirc.x(qr)\n",
    "  qCirc.h(qr)\n",
    "\n",
    "  valorQR(qCirc,qb,3*3+4*7)\n",
    "\n",
    "  for i in range(p):\n",
    "    qcauxr=QuantumRegister(4*n)\n",
    "    qcaux=QuantumCircuit(qcauxr,name='mult{0}'.format(i))\n",
    "    QArithmetic.mult(qcaux, qcauxr[0:n],qcauxr[n:2*n],qcauxr[2*n:4*n], n)\n",
    "    laux=list(lqa[i])+list(lqlambda[i])+list(lqalambda[i][:2*n])\n",
    "    qCirc.append(qcaux.to_instruction(),laux)\n",
    "\n",
    "  for i in range(p-1):\n",
    "    qcauxr=QuantumRegister(2*n+i+2*n+i+1)\n",
    "    qcaux=QuantumCircuit(qcauxr,name='sum {0} {1}'.format(i,i+1))\n",
    "    QArithmetic.add(qcaux,qcauxr[0:2*n+i],qcauxr[2*n+i:],2*n+i)\n",
    "    laux=list(lqalambda[i])+list(lqalambda[i+1])\n",
    "    qCirc.append(qcaux,laux)\n",
    "\n",
    "  qcauxr=QuantumRegister((2*n+p-1)*2)\n",
    "  qcaux=QuantumCircuit(qcauxr,name='resta')\n",
    "  QArithmetic.sub(qcaux,qcauxr[0:2*n+p-1],qcauxr[2*n+p-1:],2*n+p-1)\n",
    "  laux=list(qb)+list(lqalambda[-1])\n",
    "  qCirc.append(qcaux,laux)\n",
    "  #qCirc.measure(lqalambda[-1],raux)\n",
    "\n",
    "  qCirc.x(lqalambda[-1])\n",
    "  qcauxNT=nToffoliGate(2*n+p-1)\n",
    "  qCirc.append(qcauxNT,list(lqalambda[-1])+list(qauxEq)+[qr])\n",
    "\n",
    "  subCD=difussorUn(p*n)\n",
    "\n",
    "  qCirc.barrier()\n",
    "\n",
    "  qCirc.append(subCD, list(chain.from_iterable([list(x) for x in lqlambda]))+list(qauxDiff))\n",
    "\n",
    "  #for i in range(p):\n",
    "  #  qCirc.measure(lqlambda[i],lr[i])\n",
    "  print(qCirc.num_qubits)\n",
    "\n",
    "  return qCirc.to_instruction()"
   ]
  },
  {
   "cell_type": "code",
   "execution_count": null,
   "id": "jmcdRJ0P80xl",
   "metadata": {
    "colab": {
     "base_uri": "https://localhost:8080/"
    },
    "id": "jmcdRJ0P80xl",
    "outputId": "ccad6114-1511-40b9-a9c7-93423fd5ea08"
   },
   "outputs": [
    {
     "name": "stdout",
     "output_type": "stream",
     "text": [
      "57\n",
      "57\n",
      "89\n"
     ]
    }
   ],
   "source": [
    "p,n=2,4\n",
    "qb=QuantumRegister(2*n+p-1,\"qb\")\n",
    "lqa=[QuantumRegister(n,\"lqa[\"+str(i)+\"]\") for i in range(p)]\n",
    "lqlambda=[QuantumRegister(n,\"lqlambda[\"+str(i)+\"]\") for i in range(p)]\n",
    "lr=[ClassicalRegister(n,\"r[\"+str(i)+\"]\") for i in range(p)]\n",
    "\n",
    "lqalambda1=[QuantumRegister(2*n+i,\"lqalambda[\"+str(i)+\"]1\") for i in range(p)]\n",
    "qauxEq1=QuantumRegister(2*n+p-1-1,\"qauxEq1\")\n",
    "qr1=QuantumRegister(1,\"qr1\")\n",
    "qauxDiff1=QuantumRegister(n*p-2,\"qauxDiff1\")\n",
    "\n",
    "lqalambda2=[QuantumRegister(2*n+i,\"lqalambda[\"+str(i)+\"]2\") for i in range(p)]\n",
    "qauxEq2=QuantumRegister(2*n+p-1-1,\"qauxEq2\")\n",
    "qr2=QuantumRegister(1,\"qr2\")\n",
    "qauxDiff2=QuantumRegister(n*p-2,\"qauxDiff2\")\n",
    "\n",
    "subQC1=vueltaGrLC(p,n)\n",
    "subQC2=vueltaGrLC(p,n)\n",
    "\n",
    "qCirc=QuantumCircuit(qb,*lqa,*lqlambda,*lqalambda1,*lqalambda2,qauxEq1,qauxEq2,qr1,qr2,\\\n",
    "                     qauxDiff1,qauxDiff2,*lr)\n",
    "\n",
    "sgS=[3,7]\n",
    "for i,x in enumerate(sgS):\n",
    "  valorQR(qCirc,lqa[i],x)\n",
    "for q in lqlambda:\n",
    "  qCirc.h(q)\n",
    "qCirc.x(qr1)\n",
    "qCirc.h(qr1)\n",
    "qCirc.x(qr2)\n",
    "qCirc.h(qr2)\n",
    "valorQR(qCirc,qb,3*3+4*7)\n",
    "\n",
    "qCirc.append(subQC1,list(chain.from_iterable(lqa))+\\\n",
    "             list(chain.from_iterable(lqlambda))+\\\n",
    "             list(chain.from_iterable(lqalambda1))+list(qb)+list(qr1)+\\\n",
    "             list(qauxEq1)+list(qauxDiff1))\n",
    "\n",
    "qCirc.append(subQC2,list(chain.from_iterable(lqa))+\\\n",
    "             list(chain.from_iterable(lqlambda))+\\\n",
    "             list(chain.from_iterable(lqalambda2))+list(qb)+list(qr2)+\\\n",
    "             list(qauxEq2)+list(qauxDiff2))\n",
    "\n",
    "for i in range(p):\n",
    "  qCirc.measure(lqlambda[i],lr[i])\n",
    "print(qCirc.num_qubits)"
   ]
  },
  {
   "cell_type": "code",
   "execution_count": 35,
   "id": "tXwP4U4Tj02B",
   "metadata": {
    "colab": {
     "base_uri": "https://localhost:8080/",
     "height": 166
    },
    "id": "tXwP4U4Tj02B",
    "outputId": "56bc6bfa-7b30-4929-a9e2-815474fe2b4c"
   },
   "outputs": [
    {
     "ename": "NameError",
     "evalue": "ignored",
     "output_type": "error",
     "traceback": [
      "\u001b[0;31m---------------------------------------------------------------------------\u001b[0m",
      "\u001b[0;31mNameError\u001b[0m                                 Traceback (most recent call last)",
      "\u001b[0;32m<ipython-input-35-9219dad8cd8d>\u001b[0m in \u001b[0;36m<module>\u001b[0;34m()\u001b[0m\n\u001b[0;32m----> 1\u001b[0;31m \u001b[0mqCirc\u001b[0m\u001b[0;34m.\u001b[0m\u001b[0mdraw\u001b[0m\u001b[0;34m(\u001b[0m\u001b[0;34m'mpl'\u001b[0m\u001b[0;34m)\u001b[0m\u001b[0;34m\u001b[0m\u001b[0;34m\u001b[0m\u001b[0m\n\u001b[0m",
      "\u001b[0;31mNameError\u001b[0m: name 'qCirc' is not defined"
     ]
    }
   ],
   "source": [
    "qCirc.draw('mpl')"
   ]
  },
  {
   "cell_type": "code",
   "execution_count": null,
   "id": "lPawLpARkyg-",
   "metadata": {
    "id": "lPawLpARkyg-"
   },
   "outputs": [],
   "source": [
    "for x in counts:\n",
    "  print(tuple( [int(i,2) for i in x.split()] ),counts[x])"
   ]
  }
 ],
 "metadata": {
  "colab": {
   "collapsed_sections": [
    "92f4505c-19b7-4abd-8550-f80b10982a60",
    "b8df4581-3548-439d-ab45-98e21e7dff04",
    "315e1a76-81e3-4968-9e50-284affb941c5",
    "114c136a",
    "b089ca29",
    "tI7kvZ3-m3O_",
    "lWWyaS59JEj6",
    "e33d856f",
    "-9iErjRxRPqa"
   ],
   "name": "pertenencia.ipynb",
   "provenance": []
  },
  "kernelspec": {
   "display_name": "Python 3 (ipykernel)",
   "language": "python",
   "name": "python3"
  },
  "language_info": {
   "codemirror_mode": {
    "name": "ipython",
    "version": 3
   },
   "file_extension": ".py",
   "mimetype": "text/x-python",
   "name": "python",
   "nbconvert_exporter": "python",
   "pygments_lexer": "ipython3",
   "version": "3.10.6"
  }
 },
 "nbformat": 4,
 "nbformat_minor": 5
}
